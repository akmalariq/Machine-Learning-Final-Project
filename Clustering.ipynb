{
  "nbformat": 4,
  "nbformat_minor": 0,
  "metadata": {
    "colab": {
      "name": "Clustering Sudah Mantap.ipynb",
      "provenance": [],
      "collapsed_sections": []
    },
    "kernelspec": {
      "name": "python3",
      "display_name": "Python 3"
    }
  },
  "cells": [
    {
      "cell_type": "markdown",
      "metadata": {
        "id": "Wdg7SX8Gi8WN",
        "colab_type": "text"
      },
      "source": [
        "# 0. Goals: Classification\n",
        "\n",
        "\n",
        "\n"
      ]
    },
    {
      "cell_type": "code",
      "metadata": {
        "id": "_2lZw-rTlwH-",
        "colab_type": "code",
        "outputId": "c7b15f7e-ecb7-4d7e-88b6-30031d10e31d",
        "colab": {
          "base_uri": "https://localhost:8080/",
          "height": 70
        }
      },
      "source": [
        "# Importing libraries\n",
        "import pandas as pd\n",
        "import numpy as np\n",
        "\n",
        "from datetime import datetime\n",
        "\n",
        "# Importing libraries for reading dataset\n",
        "import io\n",
        "\n",
        "# Importing libraries for Visualization\n",
        "import matplotlib.pyplot as plt\n",
        "import seaborn as sns\n",
        "sns.set(style=\"whitegrid\")\n",
        "\n",
        "# Importing libraries for Preprocessing\n",
        "from sklearn.preprocessing import normalize\n",
        "from sklearn.preprocessing import OneHotEncoder\n",
        "from sklearn.preprocessing import LabelEncoder\n",
        "from sklearn.preprocessing import StandardScaler\n",
        "from sklearn.model_selection import train_test_split\n",
        "from sklearn.datasets import make_classification\n",
        "from sklearn.model_selection import GridSearchCV\n",
        "from sklearn.preprocessing import MinMaxScaler\n",
        "\n",
        "# Importing libraries for Models\n",
        "from sklearn.ensemble import RandomForestClassifier\n",
        "from sklearn.neighbors import KNeighborsClassifier\n",
        "from sklearn.naive_bayes import GaussianNB\n",
        "from sklearn.linear_model import LogisticRegression\n",
        "from sklearn.tree import DecisionTreeClassifier\n",
        "\n",
        "# Importing libraries for Evaluation\n",
        "from sklearn.model_selection import KFold\n",
        "from sklearn.metrics import confusion_matrix\n",
        "from sklearn.metrics import accuracy_score\n",
        "from sklearn.metrics import classification_report\n",
        "from sklearn.metrics import roc_auc_score"
      ],
      "execution_count": 2,
      "outputs": [
        {
          "output_type": "stream",
          "text": [
            "/usr/local/lib/python3.6/dist-packages/statsmodels/tools/_testing.py:19: FutureWarning: pandas.util.testing is deprecated. Use the functions in the public API at pandas.testing instead.\n",
            "  import pandas.util.testing as tm\n"
          ],
          "name": "stderr"
        }
      ]
    },
    {
      "cell_type": "code",
      "metadata": {
        "id": "KNO_kQQilymY",
        "colab_type": "code",
        "outputId": "56c4457c-a8f5-4050-9b67-1a156a3b4870",
        "colab": {
          "resources": {
            "http://localhost:8080/nbextensions/google.colab/files.js": {
              "data": "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",
              "ok": true,
              "headers": [
                [
                  "content-type",
                  "application/javascript"
                ]
              ],
              "status": 200,
              "status_text": ""
            }
          },
          "base_uri": "https://localhost:8080/",
          "height": 74
        }
      },
      "source": [
        "# Uploading csv files into google colab\n",
        "from google.colab import files\n",
        "uploaded = files.upload()"
      ],
      "execution_count": 3,
      "outputs": [
        {
          "output_type": "display_data",
          "data": {
            "text/html": [
              "\n",
              "     <input type=\"file\" id=\"files-6b5a1164-862f-4a1b-bdd2-5bb4b44e5255\" name=\"files[]\" multiple disabled />\n",
              "     <output id=\"result-6b5a1164-862f-4a1b-bdd2-5bb4b44e5255\">\n",
              "      Upload widget is only available when the cell has been executed in the\n",
              "      current browser session. Please rerun this cell to enable.\n",
              "      </output>\n",
              "      <script src=\"/nbextensions/google.colab/files.js\"></script> "
            ],
            "text/plain": [
              "<IPython.core.display.HTML object>"
            ]
          },
          "metadata": {
            "tags": []
          }
        },
        {
          "output_type": "stream",
          "text": [
            "Saving air_bnb.csv to air_bnb.csv\n"
          ],
          "name": "stdout"
        }
      ]
    },
    {
      "cell_type": "code",
      "metadata": {
        "id": "uH6jX6q3l2Sn",
        "colab_type": "code",
        "colab": {}
      },
      "source": [
        "# storing dataset to dataframe df\n",
        "df = pd.read_csv(io.BytesIO(uploaded['air_bnb.csv']))\n",
        "# Dataset is now stored in a Pandas Dataframe"
      ],
      "execution_count": 0,
      "outputs": []
    },
    {
      "cell_type": "markdown",
      "metadata": {
        "id": "RHkdLvNnjE6b",
        "colab_type": "text"
      },
      "source": [
        "# 1. Exploratory Data Analysis\n"
      ]
    },
    {
      "cell_type": "markdown",
      "metadata": {
        "id": "lL0e1QYndPkn",
        "colab_type": "text"
      },
      "source": [
        "## Data Exploration"
      ]
    },
    {
      "cell_type": "code",
      "metadata": {
        "id": "jmwukLaPmMDY",
        "colab_type": "code",
        "outputId": "ec54f9aa-3920-450e-90a2-2bcfb505aded",
        "colab": {
          "base_uri": "https://localhost:8080/",
          "height": 400
        }
      },
      "source": [
        "df.head()"
      ],
      "execution_count": 5,
      "outputs": [
        {
          "output_type": "execute_result",
          "data": {
            "text/html": [
              "<div>\n",
              "<style scoped>\n",
              "    .dataframe tbody tr th:only-of-type {\n",
              "        vertical-align: middle;\n",
              "    }\n",
              "\n",
              "    .dataframe tbody tr th {\n",
              "        vertical-align: top;\n",
              "    }\n",
              "\n",
              "    .dataframe thead th {\n",
              "        text-align: right;\n",
              "    }\n",
              "</style>\n",
              "<table border=\"1\" class=\"dataframe\">\n",
              "  <thead>\n",
              "    <tr style=\"text-align: right;\">\n",
              "      <th></th>\n",
              "      <th>id</th>\n",
              "      <th>name</th>\n",
              "      <th>host_id</th>\n",
              "      <th>host_name</th>\n",
              "      <th>neighbourhood_group</th>\n",
              "      <th>neighbourhood</th>\n",
              "      <th>latitude</th>\n",
              "      <th>longitude</th>\n",
              "      <th>room_type</th>\n",
              "      <th>price</th>\n",
              "      <th>minimum_nights</th>\n",
              "      <th>number_of_reviews</th>\n",
              "      <th>last_review</th>\n",
              "      <th>reviews_per_month</th>\n",
              "      <th>calculated_host_listings_count</th>\n",
              "      <th>availability_365</th>\n",
              "    </tr>\n",
              "  </thead>\n",
              "  <tbody>\n",
              "    <tr>\n",
              "      <th>0</th>\n",
              "      <td>2015</td>\n",
              "      <td>Berlin-Mitte Value! Quiet courtyard/very central</td>\n",
              "      <td>2217</td>\n",
              "      <td>Ian</td>\n",
              "      <td>Mitte</td>\n",
              "      <td>Brunnenstr. Süd</td>\n",
              "      <td>52.534537</td>\n",
              "      <td>13.402557</td>\n",
              "      <td>Entire home/apt</td>\n",
              "      <td>60</td>\n",
              "      <td>4</td>\n",
              "      <td>118</td>\n",
              "      <td>2018-10-28</td>\n",
              "      <td>3.76</td>\n",
              "      <td>4</td>\n",
              "      <td>141</td>\n",
              "    </tr>\n",
              "    <tr>\n",
              "      <th>1</th>\n",
              "      <td>2695</td>\n",
              "      <td>Prenzlauer Berg close to Mauerpark</td>\n",
              "      <td>2986</td>\n",
              "      <td>Michael</td>\n",
              "      <td>Pankow</td>\n",
              "      <td>Prenzlauer Berg Nordwest</td>\n",
              "      <td>52.548513</td>\n",
              "      <td>13.404553</td>\n",
              "      <td>Private room</td>\n",
              "      <td>17</td>\n",
              "      <td>2</td>\n",
              "      <td>6</td>\n",
              "      <td>2018-10-01</td>\n",
              "      <td>1.42</td>\n",
              "      <td>1</td>\n",
              "      <td>0</td>\n",
              "    </tr>\n",
              "    <tr>\n",
              "      <th>2</th>\n",
              "      <td>3176</td>\n",
              "      <td>Fabulous Flat in great Location</td>\n",
              "      <td>3718</td>\n",
              "      <td>Britta</td>\n",
              "      <td>Pankow</td>\n",
              "      <td>Prenzlauer Berg Südwest</td>\n",
              "      <td>52.534996</td>\n",
              "      <td>13.417579</td>\n",
              "      <td>Entire home/apt</td>\n",
              "      <td>90</td>\n",
              "      <td>62</td>\n",
              "      <td>143</td>\n",
              "      <td>2017-03-20</td>\n",
              "      <td>1.25</td>\n",
              "      <td>1</td>\n",
              "      <td>220</td>\n",
              "    </tr>\n",
              "    <tr>\n",
              "      <th>3</th>\n",
              "      <td>3309</td>\n",
              "      <td>BerlinSpot Schöneberg near KaDeWe</td>\n",
              "      <td>4108</td>\n",
              "      <td>Jana</td>\n",
              "      <td>Tempelhof - Schöneberg</td>\n",
              "      <td>Schöneberg-Nord</td>\n",
              "      <td>52.498855</td>\n",
              "      <td>13.349065</td>\n",
              "      <td>Private room</td>\n",
              "      <td>26</td>\n",
              "      <td>5</td>\n",
              "      <td>25</td>\n",
              "      <td>2018-08-16</td>\n",
              "      <td>0.39</td>\n",
              "      <td>1</td>\n",
              "      <td>297</td>\n",
              "    </tr>\n",
              "    <tr>\n",
              "      <th>4</th>\n",
              "      <td>7071</td>\n",
              "      <td>BrightRoom with sunny greenview!</td>\n",
              "      <td>17391</td>\n",
              "      <td>Bright</td>\n",
              "      <td>Pankow</td>\n",
              "      <td>Helmholtzplatz</td>\n",
              "      <td>52.543157</td>\n",
              "      <td>13.415091</td>\n",
              "      <td>Private room</td>\n",
              "      <td>42</td>\n",
              "      <td>2</td>\n",
              "      <td>197</td>\n",
              "      <td>2018-11-04</td>\n",
              "      <td>1.75</td>\n",
              "      <td>1</td>\n",
              "      <td>26</td>\n",
              "    </tr>\n",
              "  </tbody>\n",
              "</table>\n",
              "</div>"
            ],
            "text/plain": [
              "     id  ... availability_365\n",
              "0  2015  ...              141\n",
              "1  2695  ...                0\n",
              "2  3176  ...              220\n",
              "3  3309  ...              297\n",
              "4  7071  ...               26\n",
              "\n",
              "[5 rows x 16 columns]"
            ]
          },
          "metadata": {
            "tags": []
          },
          "execution_count": 5
        }
      ]
    },
    {
      "cell_type": "markdown",
      "metadata": {
        "id": "q2iRgctJhlwt",
        "colab_type": "text"
      },
      "source": [
        "### Variable identification"
      ]
    },
    {
      "cell_type": "code",
      "metadata": {
        "id": "9u-ZYAjZhqYr",
        "colab_type": "code",
        "outputId": "42ded7ed-1275-4cdb-d3cf-7b8e7c4473be",
        "colab": {
          "base_uri": "https://localhost:8080/",
          "height": 118
        }
      },
      "source": [
        "# Columns explaination\n",
        "df.columns\n",
        "# columns                             : 'id', 'name', 'host_id', 'host_name', 'neighbourhood_group',\n",
        "#                                       'neighbourhood', 'latitude', 'longitude', 'room_type', 'price',\n",
        "#                                       'minimum_nights', 'number_of_reviews', 'last_review',\n",
        "#                                       'reviews_per_month', 'calculated_host_listings_count',\n",
        "#                                       'availability_365'\n",
        "# -------------------------------------------------------------------------------------------------------------------------------------\n",
        "# id                                  : id of the listing, represented by int64, each id is unique\n",
        "# name                                : name of the listing, represented by a string, has 59 null values\n",
        "# host_id                             : id of the owner, represented by int64 there are 19180 host_id in 22552 data\n",
        "# host_name                           : name of the owner, represented by a string, has 29 null values\n",
        "# neighbourhood_group                 : Group of neighbourhood in Berlin. Represented by 12 categorical feature represented by \n",
        "#                                       Friedrichshain-Kreuzberg    5497\n",
        "#                                       Mitte                       4631\n",
        "#                                       Pankow                      3541\n",
        "#                                       Neukölln                    3499\n",
        "#                                       Charlottenburg-Wilm.        1592\n",
        "#                                       Tempelhof - Schöneberg      1560\n",
        "#                                       Lichtenberg                  688\n",
        "#                                       Treptow - Köpenick           595\n",
        "#                                       Steglitz - Zehlendorf        437\n",
        "#                                       Reinickendorf                247\n",
        "#                                       Marzahn - Hellersdorf        141\n",
        "#                                       Spandau                      124\n",
        "# neighbourhood                       : neighbourhood names. Represented by 136 unique categorical feature \n",
        "# latitude                            : Latitude of the listings. Unique set of float64\n",
        "# longitude                           : Longitude of the listings. Unique set of float64\n",
        "# room_type                           : Types of room in the listing. Categorical feature represented by 3 groups 'Entire home/apt', 'Private room', 'Shared room'\n",
        "# price                               : Prices of the listing. 295 prices represented by int64\n",
        "# minimum_nights                      : The minimum amount of nights to stay in the listing. 102 unique int64\n",
        "# number_of_reviews                   : Number of review in the listing. 306 unique int64\n",
        "# last_review                         : Last recorded review date of the listing1313 different dates of the last review, contains 3908 NULL Values\n",
        "# reviews_per_month                   : The average reviews per month of  the listing. 769 unique float64\n",
        "# calculated_host_listings_count      : The number of listing the host has. 23 unique int64, how many listing a host has.\n",
        "# availability_365                    : Number of days it is available in a year. 366 unique int64"
      ],
      "execution_count": 6,
      "outputs": [
        {
          "output_type": "execute_result",
          "data": {
            "text/plain": [
              "Index(['id', 'name', 'host_id', 'host_name', 'neighbourhood_group',\n",
              "       'neighbourhood', 'latitude', 'longitude', 'room_type', 'price',\n",
              "       'minimum_nights', 'number_of_reviews', 'last_review',\n",
              "       'reviews_per_month', 'calculated_host_listings_count',\n",
              "       'availability_365'],\n",
              "      dtype='object')"
            ]
          },
          "metadata": {
            "tags": []
          },
          "execution_count": 6
        }
      ]
    },
    {
      "cell_type": "markdown",
      "metadata": {
        "id": "iOkJ0r-lk5h-",
        "colab_type": "text"
      },
      "source": [
        "id, name, host_id, host_name will not be used in this experiment"
      ]
    },
    {
      "cell_type": "code",
      "metadata": {
        "id": "HoVebRhPmPZM",
        "colab_type": "code",
        "colab": {}
      },
      "source": [
        "df = df.drop(columns=['id', 'name', 'host_id', 'host_name'])"
      ],
      "execution_count": 0,
      "outputs": []
    },
    {
      "cell_type": "markdown",
      "metadata": {
        "id": "zEjsWEXudV9C",
        "colab_type": "text"
      },
      "source": [
        "### Count the number of records"
      ]
    },
    {
      "cell_type": "code",
      "metadata": {
        "id": "DPxDRDCodUQ7",
        "colab_type": "code",
        "outputId": "41a93859-6855-4df9-a965-9884a0d95d60",
        "colab": {
          "base_uri": "https://localhost:8080/",
          "height": 34
        }
      },
      "source": [
        "df.shape"
      ],
      "execution_count": 8,
      "outputs": [
        {
          "output_type": "execute_result",
          "data": {
            "text/plain": [
              "(22552, 12)"
            ]
          },
          "metadata": {
            "tags": []
          },
          "execution_count": 8
        }
      ]
    },
    {
      "cell_type": "markdown",
      "metadata": {
        "id": "tgTXplYIdzld",
        "colab_type": "text"
      },
      "source": [
        "### Look for Missing Values"
      ]
    },
    {
      "cell_type": "code",
      "metadata": {
        "id": "UvB-v1fmdcYM",
        "colab_type": "code",
        "outputId": "87a0a1a9-b78c-45da-89a3-1f8fc8f0a16b",
        "colab": {
          "base_uri": "https://localhost:8080/",
          "height": 235
        }
      },
      "source": [
        "df.isnull().sum()"
      ],
      "execution_count": 9,
      "outputs": [
        {
          "output_type": "execute_result",
          "data": {
            "text/plain": [
              "neighbourhood_group                  0\n",
              "neighbourhood                        0\n",
              "latitude                             0\n",
              "longitude                            0\n",
              "room_type                            0\n",
              "price                                0\n",
              "minimum_nights                       0\n",
              "number_of_reviews                    0\n",
              "last_review                       3908\n",
              "reviews_per_month                 3914\n",
              "calculated_host_listings_count       0\n",
              "availability_365                     0\n",
              "dtype: int64"
            ]
          },
          "metadata": {
            "tags": []
          },
          "execution_count": 9
        }
      ]
    },
    {
      "cell_type": "markdown",
      "metadata": {
        "id": "G6SXH6gJyh_N",
        "colab_type": "text"
      },
      "source": [
        "There are missing values in last_review and reviews_per month."
      ]
    },
    {
      "cell_type": "code",
      "metadata": {
        "id": "zDtUSXt6yxKk",
        "colab_type": "code",
        "colab": {}
      },
      "source": [
        "missing = df[['number_of_reviews','last_review','reviews_per_month']].copy()"
      ],
      "execution_count": 0,
      "outputs": []
    },
    {
      "cell_type": "code",
      "metadata": {
        "id": "LX7HOc1_zA7A",
        "colab_type": "code",
        "outputId": "e8180580-c297-43fd-c36c-186fe9c46080",
        "colab": {
          "base_uri": "https://localhost:8080/",
          "height": 34
        }
      },
      "source": [
        "missing.loc[missing['number_of_reviews']==0,:].shape"
      ],
      "execution_count": 11,
      "outputs": [
        {
          "output_type": "execute_result",
          "data": {
            "text/plain": [
              "(3890, 3)"
            ]
          },
          "metadata": {
            "tags": []
          },
          "execution_count": 11
        }
      ]
    },
    {
      "cell_type": "markdown",
      "metadata": {
        "id": "JxmC2Y4VzhtP",
        "colab_type": "text"
      },
      "source": [
        "There are 3890 0 values in number of reviews."
      ]
    },
    {
      "cell_type": "code",
      "metadata": {
        "id": "s_8qygK-zrZQ",
        "colab_type": "code",
        "outputId": "cf2b2e40-9585-41eb-cbf9-4467720439f0",
        "colab": {
          "base_uri": "https://localhost:8080/",
          "height": 402
        }
      },
      "source": [
        "missing.loc[((missing['number_of_reviews']==0) & (missing['last_review'].isnull())),:]"
      ],
      "execution_count": 12,
      "outputs": [
        {
          "output_type": "execute_result",
          "data": {
            "text/html": [
              "<div>\n",
              "<style scoped>\n",
              "    .dataframe tbody tr th:only-of-type {\n",
              "        vertical-align: middle;\n",
              "    }\n",
              "\n",
              "    .dataframe tbody tr th {\n",
              "        vertical-align: top;\n",
              "    }\n",
              "\n",
              "    .dataframe thead th {\n",
              "        text-align: right;\n",
              "    }\n",
              "</style>\n",
              "<table border=\"1\" class=\"dataframe\">\n",
              "  <thead>\n",
              "    <tr style=\"text-align: right;\">\n",
              "      <th></th>\n",
              "      <th>number_of_reviews</th>\n",
              "      <th>last_review</th>\n",
              "      <th>reviews_per_month</th>\n",
              "    </tr>\n",
              "  </thead>\n",
              "  <tbody>\n",
              "    <tr>\n",
              "      <th>7</th>\n",
              "      <td>0</td>\n",
              "      <td>NaN</td>\n",
              "      <td>NaN</td>\n",
              "    </tr>\n",
              "    <tr>\n",
              "      <th>44</th>\n",
              "      <td>0</td>\n",
              "      <td>NaN</td>\n",
              "      <td>NaN</td>\n",
              "    </tr>\n",
              "    <tr>\n",
              "      <th>47</th>\n",
              "      <td>0</td>\n",
              "      <td>NaN</td>\n",
              "      <td>NaN</td>\n",
              "    </tr>\n",
              "    <tr>\n",
              "      <th>166</th>\n",
              "      <td>0</td>\n",
              "      <td>NaN</td>\n",
              "      <td>NaN</td>\n",
              "    </tr>\n",
              "    <tr>\n",
              "      <th>171</th>\n",
              "      <td>0</td>\n",
              "      <td>NaN</td>\n",
              "      <td>NaN</td>\n",
              "    </tr>\n",
              "    <tr>\n",
              "      <th>...</th>\n",
              "      <td>...</td>\n",
              "      <td>...</td>\n",
              "      <td>...</td>\n",
              "    </tr>\n",
              "    <tr>\n",
              "      <th>22547</th>\n",
              "      <td>0</td>\n",
              "      <td>NaN</td>\n",
              "      <td>NaN</td>\n",
              "    </tr>\n",
              "    <tr>\n",
              "      <th>22548</th>\n",
              "      <td>0</td>\n",
              "      <td>NaN</td>\n",
              "      <td>NaN</td>\n",
              "    </tr>\n",
              "    <tr>\n",
              "      <th>22549</th>\n",
              "      <td>0</td>\n",
              "      <td>NaN</td>\n",
              "      <td>NaN</td>\n",
              "    </tr>\n",
              "    <tr>\n",
              "      <th>22550</th>\n",
              "      <td>0</td>\n",
              "      <td>NaN</td>\n",
              "      <td>NaN</td>\n",
              "    </tr>\n",
              "    <tr>\n",
              "      <th>22551</th>\n",
              "      <td>0</td>\n",
              "      <td>NaN</td>\n",
              "      <td>NaN</td>\n",
              "    </tr>\n",
              "  </tbody>\n",
              "</table>\n",
              "<p>3890 rows × 3 columns</p>\n",
              "</div>"
            ],
            "text/plain": [
              "       number_of_reviews last_review  reviews_per_month\n",
              "7                      0         NaN                NaN\n",
              "44                     0         NaN                NaN\n",
              "47                     0         NaN                NaN\n",
              "166                    0         NaN                NaN\n",
              "171                    0         NaN                NaN\n",
              "...                  ...         ...                ...\n",
              "22547                  0         NaN                NaN\n",
              "22548                  0         NaN                NaN\n",
              "22549                  0         NaN                NaN\n",
              "22550                  0         NaN                NaN\n",
              "22551                  0         NaN                NaN\n",
              "\n",
              "[3890 rows x 3 columns]"
            ]
          },
          "metadata": {
            "tags": []
          },
          "execution_count": 12
        }
      ]
    },
    {
      "cell_type": "markdown",
      "metadata": {
        "id": "j_arm2Jc0DtP",
        "colab_type": "text"
      },
      "source": [
        "There are 3890 rows with 0 values in number_of_reviews and null values in last_review. We can safely assume that these null values are caused by no review of the listing."
      ]
    },
    {
      "cell_type": "code",
      "metadata": {
        "id": "lq8qqTWC0keJ",
        "colab_type": "code",
        "outputId": "3426cd9b-74d2-41f6-925c-fdcecfaf9fa5",
        "colab": {
          "base_uri": "https://localhost:8080/",
          "height": 402
        }
      },
      "source": [
        "missing.loc[((missing['number_of_reviews']==0) & (missing['reviews_per_month'].isnull())),:]"
      ],
      "execution_count": 13,
      "outputs": [
        {
          "output_type": "execute_result",
          "data": {
            "text/html": [
              "<div>\n",
              "<style scoped>\n",
              "    .dataframe tbody tr th:only-of-type {\n",
              "        vertical-align: middle;\n",
              "    }\n",
              "\n",
              "    .dataframe tbody tr th {\n",
              "        vertical-align: top;\n",
              "    }\n",
              "\n",
              "    .dataframe thead th {\n",
              "        text-align: right;\n",
              "    }\n",
              "</style>\n",
              "<table border=\"1\" class=\"dataframe\">\n",
              "  <thead>\n",
              "    <tr style=\"text-align: right;\">\n",
              "      <th></th>\n",
              "      <th>number_of_reviews</th>\n",
              "      <th>last_review</th>\n",
              "      <th>reviews_per_month</th>\n",
              "    </tr>\n",
              "  </thead>\n",
              "  <tbody>\n",
              "    <tr>\n",
              "      <th>7</th>\n",
              "      <td>0</td>\n",
              "      <td>NaN</td>\n",
              "      <td>NaN</td>\n",
              "    </tr>\n",
              "    <tr>\n",
              "      <th>44</th>\n",
              "      <td>0</td>\n",
              "      <td>NaN</td>\n",
              "      <td>NaN</td>\n",
              "    </tr>\n",
              "    <tr>\n",
              "      <th>47</th>\n",
              "      <td>0</td>\n",
              "      <td>NaN</td>\n",
              "      <td>NaN</td>\n",
              "    </tr>\n",
              "    <tr>\n",
              "      <th>166</th>\n",
              "      <td>0</td>\n",
              "      <td>NaN</td>\n",
              "      <td>NaN</td>\n",
              "    </tr>\n",
              "    <tr>\n",
              "      <th>171</th>\n",
              "      <td>0</td>\n",
              "      <td>NaN</td>\n",
              "      <td>NaN</td>\n",
              "    </tr>\n",
              "    <tr>\n",
              "      <th>...</th>\n",
              "      <td>...</td>\n",
              "      <td>...</td>\n",
              "      <td>...</td>\n",
              "    </tr>\n",
              "    <tr>\n",
              "      <th>22547</th>\n",
              "      <td>0</td>\n",
              "      <td>NaN</td>\n",
              "      <td>NaN</td>\n",
              "    </tr>\n",
              "    <tr>\n",
              "      <th>22548</th>\n",
              "      <td>0</td>\n",
              "      <td>NaN</td>\n",
              "      <td>NaN</td>\n",
              "    </tr>\n",
              "    <tr>\n",
              "      <th>22549</th>\n",
              "      <td>0</td>\n",
              "      <td>NaN</td>\n",
              "      <td>NaN</td>\n",
              "    </tr>\n",
              "    <tr>\n",
              "      <th>22550</th>\n",
              "      <td>0</td>\n",
              "      <td>NaN</td>\n",
              "      <td>NaN</td>\n",
              "    </tr>\n",
              "    <tr>\n",
              "      <th>22551</th>\n",
              "      <td>0</td>\n",
              "      <td>NaN</td>\n",
              "      <td>NaN</td>\n",
              "    </tr>\n",
              "  </tbody>\n",
              "</table>\n",
              "<p>3890 rows × 3 columns</p>\n",
              "</div>"
            ],
            "text/plain": [
              "       number_of_reviews last_review  reviews_per_month\n",
              "7                      0         NaN                NaN\n",
              "44                     0         NaN                NaN\n",
              "47                     0         NaN                NaN\n",
              "166                    0         NaN                NaN\n",
              "171                    0         NaN                NaN\n",
              "...                  ...         ...                ...\n",
              "22547                  0         NaN                NaN\n",
              "22548                  0         NaN                NaN\n",
              "22549                  0         NaN                NaN\n",
              "22550                  0         NaN                NaN\n",
              "22551                  0         NaN                NaN\n",
              "\n",
              "[3890 rows x 3 columns]"
            ]
          },
          "metadata": {
            "tags": []
          },
          "execution_count": 13
        }
      ]
    },
    {
      "cell_type": "markdown",
      "metadata": {
        "id": "9otZLS7o04c-",
        "colab_type": "text"
      },
      "source": [
        "There are 3890 rows with 0 values in number_of_reviews and null values in reviews_per_month. We can safely assume that these null values are caused by no review of the listing."
      ]
    },
    {
      "cell_type": "markdown",
      "metadata": {
        "id": "83ZpOqcI1Idg",
        "colab_type": "text"
      },
      "source": [
        "last_review                       3908\n",
        "reviews_per_month                 3914\n",
        "\n",
        "Since last_review has 3908 missing values\n",
        "\n",
        "3908 - 3890 = 18\n",
        "\n",
        "it only has 18 missing values\n",
        "\n",
        "Since reviews_per_month has 3914 missing values\n",
        "\n",
        "3914 - 3890 = 24\n",
        "\n",
        "it only has 24 missing values"
      ]
    },
    {
      "cell_type": "code",
      "metadata": {
        "id": "JcUIDh0G5wvA",
        "colab_type": "code",
        "colab": {}
      },
      "source": [
        "mean_reviews_per_month = missing['reviews_per_month'].mean()"
      ],
      "execution_count": 0,
      "outputs": []
    },
    {
      "cell_type": "code",
      "metadata": {
        "id": "sSIhyBDI02ln",
        "colab_type": "code",
        "colab": {}
      },
      "source": [
        "idx_reviews_per_month =  missing.loc[((missing['number_of_reviews']==0) & (missing['reviews_per_month'].isnull())),:].index"
      ],
      "execution_count": 0,
      "outputs": []
    },
    {
      "cell_type": "code",
      "metadata": {
        "id": "YVMcHdt70y6H",
        "colab_type": "code",
        "outputId": "628ece45-d920-41c3-cc83-824418961b5d",
        "colab": {
          "base_uri": "https://localhost:8080/",
          "height": 101
        }
      },
      "source": [
        "missing['reviews_per_month'][idx_reviews_per_month] = 0"
      ],
      "execution_count": 16,
      "outputs": [
        {
          "output_type": "stream",
          "text": [
            "/usr/local/lib/python3.6/dist-packages/ipykernel_launcher.py:1: SettingWithCopyWarning: \n",
            "A value is trying to be set on a copy of a slice from a DataFrame\n",
            "\n",
            "See the caveats in the documentation: https://pandas.pydata.org/pandas-docs/stable/user_guide/indexing.html#returning-a-view-versus-a-copy\n",
            "  \"\"\"Entry point for launching an IPython kernel.\n"
          ],
          "name": "stderr"
        }
      ]
    },
    {
      "cell_type": "code",
      "metadata": {
        "id": "5dgYhZsk2V0z",
        "colab_type": "code",
        "outputId": "a6c2e812-1afe-457a-fe40-1a6e69f5adaf",
        "colab": {
          "base_uri": "https://localhost:8080/",
          "height": 218
        }
      },
      "source": [
        "missing['reviews_per_month'][idx_reviews_per_month]"
      ],
      "execution_count": 17,
      "outputs": [
        {
          "output_type": "execute_result",
          "data": {
            "text/plain": [
              "7        0.0\n",
              "44       0.0\n",
              "47       0.0\n",
              "166      0.0\n",
              "171      0.0\n",
              "        ... \n",
              "22547    0.0\n",
              "22548    0.0\n",
              "22549    0.0\n",
              "22550    0.0\n",
              "22551    0.0\n",
              "Name: reviews_per_month, Length: 3890, dtype: float64"
            ]
          },
          "metadata": {
            "tags": []
          },
          "execution_count": 17
        }
      ]
    },
    {
      "cell_type": "code",
      "metadata": {
        "id": "ja74k10j5XNi",
        "colab_type": "code",
        "outputId": "334b8d53-91a0-4bcb-d290-d277798414f9",
        "colab": {
          "base_uri": "https://localhost:8080/",
          "height": 34
        }
      },
      "source": [
        "missing['reviews_per_month'].isnull().sum()"
      ],
      "execution_count": 18,
      "outputs": [
        {
          "output_type": "execute_result",
          "data": {
            "text/plain": [
              "24"
            ]
          },
          "metadata": {
            "tags": []
          },
          "execution_count": 18
        }
      ]
    },
    {
      "cell_type": "markdown",
      "metadata": {
        "id": "EFzdCV0K5yaN",
        "colab_type": "text"
      },
      "source": [
        "These missing values will be filled with mean"
      ]
    },
    {
      "cell_type": "code",
      "metadata": {
        "id": "fW0iiORWChgq",
        "colab_type": "code",
        "outputId": "a9155890-2c22-4232-e63a-361901884b6e",
        "colab": {
          "base_uri": "https://localhost:8080/",
          "height": 34
        }
      },
      "source": [
        "mean_reviews_per_month"
      ],
      "execution_count": 19,
      "outputs": [
        {
          "output_type": "execute_result",
          "data": {
            "text/plain": [
              "1.1355252709518162"
            ]
          },
          "metadata": {
            "tags": []
          },
          "execution_count": 19
        }
      ]
    },
    {
      "cell_type": "code",
      "metadata": {
        "id": "ZhNekvrt5kRI",
        "colab_type": "code",
        "colab": {}
      },
      "source": [
        "missing['reviews_per_month'] = missing['reviews_per_month'].fillna(mean_reviews_per_month)"
      ],
      "execution_count": 0,
      "outputs": []
    },
    {
      "cell_type": "code",
      "metadata": {
        "id": "OhS-vXvX6LOH",
        "colab_type": "code",
        "outputId": "a2f552e3-5f58-42c2-abea-42b9369f44f1",
        "colab": {
          "base_uri": "https://localhost:8080/",
          "height": 34
        }
      },
      "source": [
        "missing['reviews_per_month'].isnull().sum()"
      ],
      "execution_count": 21,
      "outputs": [
        {
          "output_type": "execute_result",
          "data": {
            "text/plain": [
              "0"
            ]
          },
          "metadata": {
            "tags": []
          },
          "execution_count": 21
        }
      ]
    },
    {
      "cell_type": "markdown",
      "metadata": {
        "id": "YdyWG8ws7QUF",
        "colab_type": "text"
      },
      "source": [
        "There are no missing values in reviews_per_month"
      ]
    },
    {
      "cell_type": "code",
      "metadata": {
        "id": "6WVgog3i_J_1",
        "colab_type": "code",
        "colab": {}
      },
      "source": [
        "mode_last_review = missing['last_review'].mode()"
      ],
      "execution_count": 0,
      "outputs": []
    },
    {
      "cell_type": "code",
      "metadata": {
        "id": "YT8pr74c7WOu",
        "colab_type": "code",
        "colab": {}
      },
      "source": [
        "idx_last_review =  missing.loc[((missing['number_of_reviews']==0) & (missing['last_review'].isnull())),:].index"
      ],
      "execution_count": 0,
      "outputs": []
    },
    {
      "cell_type": "code",
      "metadata": {
        "id": "dMValPI17Xho",
        "colab_type": "code",
        "outputId": "b1525b30-b3d4-4e50-fefa-3d2444db14f6",
        "colab": {
          "base_uri": "https://localhost:8080/",
          "height": 101
        }
      },
      "source": [
        "missing['last_review'][idx_last_review] = '0000/00/00'"
      ],
      "execution_count": 24,
      "outputs": [
        {
          "output_type": "stream",
          "text": [
            "/usr/local/lib/python3.6/dist-packages/ipykernel_launcher.py:1: SettingWithCopyWarning: \n",
            "A value is trying to be set on a copy of a slice from a DataFrame\n",
            "\n",
            "See the caveats in the documentation: https://pandas.pydata.org/pandas-docs/stable/user_guide/indexing.html#returning-a-view-versus-a-copy\n",
            "  \"\"\"Entry point for launching an IPython kernel.\n"
          ],
          "name": "stderr"
        }
      ]
    },
    {
      "cell_type": "code",
      "metadata": {
        "id": "u_kfToG5-yMt",
        "colab_type": "code",
        "outputId": "9e7d29e2-8044-46b1-a251-5a5f4c80e99d",
        "colab": {
          "base_uri": "https://localhost:8080/",
          "height": 218
        }
      },
      "source": [
        "missing['last_review'][idx_last_review]"
      ],
      "execution_count": 25,
      "outputs": [
        {
          "output_type": "execute_result",
          "data": {
            "text/plain": [
              "7        0000/00/00\n",
              "44       0000/00/00\n",
              "47       0000/00/00\n",
              "166      0000/00/00\n",
              "171      0000/00/00\n",
              "            ...    \n",
              "22547    0000/00/00\n",
              "22548    0000/00/00\n",
              "22549    0000/00/00\n",
              "22550    0000/00/00\n",
              "22551    0000/00/00\n",
              "Name: last_review, Length: 3890, dtype: object"
            ]
          },
          "metadata": {
            "tags": []
          },
          "execution_count": 25
        }
      ]
    },
    {
      "cell_type": "code",
      "metadata": {
        "id": "HNbbZEQP--T8",
        "colab_type": "code",
        "outputId": "7e9f197d-3e75-498e-abba-e3e5c7f068cf",
        "colab": {
          "base_uri": "https://localhost:8080/",
          "height": 34
        }
      },
      "source": [
        "missing['last_review'].isnull().sum()"
      ],
      "execution_count": 26,
      "outputs": [
        {
          "output_type": "execute_result",
          "data": {
            "text/plain": [
              "18"
            ]
          },
          "metadata": {
            "tags": []
          },
          "execution_count": 26
        }
      ]
    },
    {
      "cell_type": "markdown",
      "metadata": {
        "id": "U2dP-qww_Hyq",
        "colab_type": "text"
      },
      "source": [
        "These missing values will be filled with mode"
      ]
    },
    {
      "cell_type": "code",
      "metadata": {
        "id": "VPtL8qna_7tx",
        "colab_type": "code",
        "outputId": "a849314b-51c8-448d-cd40-03cf595f663b",
        "colab": {
          "base_uri": "https://localhost:8080/",
          "height": 34
        }
      },
      "source": [
        "mode_last_review[0]"
      ],
      "execution_count": 27,
      "outputs": [
        {
          "output_type": "execute_result",
          "data": {
            "text/plain": [
              "'2018-11-04'"
            ]
          },
          "metadata": {
            "tags": []
          },
          "execution_count": 27
        }
      ]
    },
    {
      "cell_type": "code",
      "metadata": {
        "id": "Gm5I_H7Q_Pa-",
        "colab_type": "code",
        "colab": {}
      },
      "source": [
        "missing['last_review'] = missing['last_review'].fillna(value=mode_last_review[0])"
      ],
      "execution_count": 0,
      "outputs": []
    },
    {
      "cell_type": "code",
      "metadata": {
        "id": "2bmBvLXRCw4y",
        "colab_type": "code",
        "outputId": "fadaee35-bb5f-4e04-ef5b-bdca88815fbe",
        "colab": {
          "base_uri": "https://localhost:8080/",
          "height": 34
        }
      },
      "source": [
        "missing['last_review'].isnull().sum()"
      ],
      "execution_count": 29,
      "outputs": [
        {
          "output_type": "execute_result",
          "data": {
            "text/plain": [
              "0"
            ]
          },
          "metadata": {
            "tags": []
          },
          "execution_count": 29
        }
      ]
    },
    {
      "cell_type": "code",
      "metadata": {
        "id": "G23z8SQ2DK4h",
        "colab_type": "code",
        "colab": {}
      },
      "source": [
        "df[['last_review','reviews_per_month']] = missing[['last_review','reviews_per_month']]"
      ],
      "execution_count": 0,
      "outputs": []
    },
    {
      "cell_type": "code",
      "metadata": {
        "id": "RNGuy0ElDjLi",
        "colab_type": "code",
        "outputId": "19b11ad5-1b69-4f26-c5ed-1653d245dc8d",
        "colab": {
          "base_uri": "https://localhost:8080/",
          "height": 235
        }
      },
      "source": [
        "df.isnull().sum()"
      ],
      "execution_count": 31,
      "outputs": [
        {
          "output_type": "execute_result",
          "data": {
            "text/plain": [
              "neighbourhood_group               0\n",
              "neighbourhood                     0\n",
              "latitude                          0\n",
              "longitude                         0\n",
              "room_type                         0\n",
              "price                             0\n",
              "minimum_nights                    0\n",
              "number_of_reviews                 0\n",
              "last_review                       0\n",
              "reviews_per_month                 0\n",
              "calculated_host_listings_count    0\n",
              "availability_365                  0\n",
              "dtype: int64"
            ]
          },
          "metadata": {
            "tags": []
          },
          "execution_count": 31
        }
      ]
    },
    {
      "cell_type": "markdown",
      "metadata": {
        "id": "als4f5dQeFWw",
        "colab_type": "text"
      },
      "source": [
        "### Verify the distribution of each"
      ]
    },
    {
      "cell_type": "code",
      "metadata": {
        "id": "KUhbTJCOePJF",
        "colab_type": "code",
        "outputId": "f3788ab4-466c-499e-c354-9b224e0d0798",
        "colab": {
          "base_uri": "https://localhost:8080/",
          "height": 284
        }
      },
      "source": [
        "df.describe()"
      ],
      "execution_count": 32,
      "outputs": [
        {
          "output_type": "execute_result",
          "data": {
            "text/html": [
              "<div>\n",
              "<style scoped>\n",
              "    .dataframe tbody tr th:only-of-type {\n",
              "        vertical-align: middle;\n",
              "    }\n",
              "\n",
              "    .dataframe tbody tr th {\n",
              "        vertical-align: top;\n",
              "    }\n",
              "\n",
              "    .dataframe thead th {\n",
              "        text-align: right;\n",
              "    }\n",
              "</style>\n",
              "<table border=\"1\" class=\"dataframe\">\n",
              "  <thead>\n",
              "    <tr style=\"text-align: right;\">\n",
              "      <th></th>\n",
              "      <th>latitude</th>\n",
              "      <th>longitude</th>\n",
              "      <th>price</th>\n",
              "      <th>minimum_nights</th>\n",
              "      <th>number_of_reviews</th>\n",
              "      <th>reviews_per_month</th>\n",
              "      <th>calculated_host_listings_count</th>\n",
              "      <th>availability_365</th>\n",
              "    </tr>\n",
              "  </thead>\n",
              "  <tbody>\n",
              "    <tr>\n",
              "      <th>count</th>\n",
              "      <td>22552.000000</td>\n",
              "      <td>22552.000000</td>\n",
              "      <td>22552.000000</td>\n",
              "      <td>22552.000000</td>\n",
              "      <td>22552.000000</td>\n",
              "      <td>22552.000000</td>\n",
              "      <td>22552.000000</td>\n",
              "      <td>22552.000000</td>\n",
              "    </tr>\n",
              "    <tr>\n",
              "      <th>mean</th>\n",
              "      <td>52.509824</td>\n",
              "      <td>13.406107</td>\n",
              "      <td>67.143668</td>\n",
              "      <td>7.157059</td>\n",
              "      <td>17.840679</td>\n",
              "      <td>0.939658</td>\n",
              "      <td>1.918233</td>\n",
              "      <td>79.852829</td>\n",
              "    </tr>\n",
              "    <tr>\n",
              "      <th>std</th>\n",
              "      <td>0.030825</td>\n",
              "      <td>0.057964</td>\n",
              "      <td>220.266210</td>\n",
              "      <td>40.665073</td>\n",
              "      <td>36.769624</td>\n",
              "      <td>1.435668</td>\n",
              "      <td>3.667257</td>\n",
              "      <td>119.368162</td>\n",
              "    </tr>\n",
              "    <tr>\n",
              "      <th>min</th>\n",
              "      <td>52.345803</td>\n",
              "      <td>13.103557</td>\n",
              "      <td>0.000000</td>\n",
              "      <td>1.000000</td>\n",
              "      <td>0.000000</td>\n",
              "      <td>0.000000</td>\n",
              "      <td>1.000000</td>\n",
              "      <td>0.000000</td>\n",
              "    </tr>\n",
              "    <tr>\n",
              "      <th>25%</th>\n",
              "      <td>52.489065</td>\n",
              "      <td>13.375411</td>\n",
              "      <td>30.000000</td>\n",
              "      <td>2.000000</td>\n",
              "      <td>1.000000</td>\n",
              "      <td>0.060000</td>\n",
              "      <td>1.000000</td>\n",
              "      <td>0.000000</td>\n",
              "    </tr>\n",
              "    <tr>\n",
              "      <th>50%</th>\n",
              "      <td>52.509079</td>\n",
              "      <td>13.416779</td>\n",
              "      <td>45.000000</td>\n",
              "      <td>2.000000</td>\n",
              "      <td>5.000000</td>\n",
              "      <td>0.340000</td>\n",
              "      <td>1.000000</td>\n",
              "      <td>4.000000</td>\n",
              "    </tr>\n",
              "    <tr>\n",
              "      <th>75%</th>\n",
              "      <td>52.532669</td>\n",
              "      <td>13.439259</td>\n",
              "      <td>70.000000</td>\n",
              "      <td>4.000000</td>\n",
              "      <td>16.000000</td>\n",
              "      <td>1.180000</td>\n",
              "      <td>1.000000</td>\n",
              "      <td>129.000000</td>\n",
              "    </tr>\n",
              "    <tr>\n",
              "      <th>max</th>\n",
              "      <td>52.651670</td>\n",
              "      <td>13.757642</td>\n",
              "      <td>9000.000000</td>\n",
              "      <td>5000.000000</td>\n",
              "      <td>498.000000</td>\n",
              "      <td>36.670000</td>\n",
              "      <td>45.000000</td>\n",
              "      <td>365.000000</td>\n",
              "    </tr>\n",
              "  </tbody>\n",
              "</table>\n",
              "</div>"
            ],
            "text/plain": [
              "           latitude  ...  availability_365\n",
              "count  22552.000000  ...      22552.000000\n",
              "mean      52.509824  ...         79.852829\n",
              "std        0.030825  ...        119.368162\n",
              "min       52.345803  ...          0.000000\n",
              "25%       52.489065  ...          0.000000\n",
              "50%       52.509079  ...          4.000000\n",
              "75%       52.532669  ...        129.000000\n",
              "max       52.651670  ...        365.000000\n",
              "\n",
              "[8 rows x 8 columns]"
            ]
          },
          "metadata": {
            "tags": []
          },
          "execution_count": 32
        }
      ]
    },
    {
      "cell_type": "markdown",
      "metadata": {
        "id": "nqVEjOAXfA1J",
        "colab_type": "text"
      },
      "source": [
        "### Search for outliers"
      ]
    },
    {
      "cell_type": "code",
      "metadata": {
        "id": "tdc1nnl-koa5",
        "colab_type": "code",
        "outputId": "a482a29d-71ff-4f1c-8daa-7f841839dd73",
        "colab": {
          "base_uri": "https://localhost:8080/",
          "height": 101
        }
      },
      "source": [
        "df.columns"
      ],
      "execution_count": 33,
      "outputs": [
        {
          "output_type": "execute_result",
          "data": {
            "text/plain": [
              "Index(['neighbourhood_group', 'neighbourhood', 'latitude', 'longitude',\n",
              "       'room_type', 'price', 'minimum_nights', 'number_of_reviews',\n",
              "       'last_review', 'reviews_per_month', 'calculated_host_listings_count',\n",
              "       'availability_365'],\n",
              "      dtype='object')"
            ]
          },
          "metadata": {
            "tags": []
          },
          "execution_count": 33
        }
      ]
    },
    {
      "cell_type": "markdown",
      "metadata": {
        "id": "TyPxym2Tkm7u",
        "colab_type": "text"
      },
      "source": [
        "latitude"
      ]
    },
    {
      "cell_type": "code",
      "metadata": {
        "id": "HSmw0TKYfF1U",
        "colab_type": "code",
        "cellView": "code",
        "outputId": "208681df-11cd-48d2-f977-a6b205fa259a",
        "colab": {
          "base_uri": "https://localhost:8080/",
          "height": 302
        }
      },
      "source": [
        "# latitude\n",
        "f = plt.figure(figsize=(20,4))\n",
        "f.add_subplot(1,2,1)\n",
        "sns.distplot(df['latitude'])\n",
        "f.add_subplot(1,2,2)\n",
        "sns.boxplot(df['latitude'])"
      ],
      "execution_count": 34,
      "outputs": [
        {
          "output_type": "execute_result",
          "data": {
            "text/plain": [
              "<matplotlib.axes._subplots.AxesSubplot at 0x7f2ac2447f28>"
            ]
          },
          "metadata": {
            "tags": []
          },
          "execution_count": 34
        },
        {
          "output_type": "display_data",
          "data": {
            "image/png": "[encoded data removed]",
            "text/plain": [
              "<Figure size 1440x288 with 2 Axes>"
            ]
          },
          "metadata": {
            "tags": []
          }
        }
      ]
    },
    {
      "cell_type": "markdown",
      "metadata": {
        "id": "aW4CpLE1pZra",
        "colab_type": "text"
      },
      "source": [
        "longitude"
      ]
    },
    {
      "cell_type": "code",
      "metadata": {
        "id": "omxsGn8lpMmv",
        "colab_type": "code",
        "outputId": "f134f4be-e82e-4162-f766-9a069db96e53",
        "colab": {
          "base_uri": "https://localhost:8080/",
          "height": 302
        }
      },
      "source": [
        "# longitude\n",
        "f = plt.figure(figsize=(20,4))\n",
        "f.add_subplot(1,2,1)\n",
        "sns.distplot(df['longitude'])\n",
        "f.add_subplot(1,2,2)\n",
        "sns.boxplot(df['longitude'])"
      ],
      "execution_count": 35,
      "outputs": [
        {
          "output_type": "execute_result",
          "data": {
            "text/plain": [
              "<matplotlib.axes._subplots.AxesSubplot at 0x7f2ac1de84a8>"
            ]
          },
          "metadata": {
            "tags": []
          },
          "execution_count": 35
        },
        {
          "output_type": "display_data",
          "data": {
            "image/png": "[encoded data removed]",
            "text/plain": [
              "<Figure size 1440x288 with 2 Axes>"
            ]
          },
          "metadata": {
            "tags": []
          }
        }
      ]
    },
    {
      "cell_type": "markdown",
      "metadata": {
        "id": "XQCm0sq4ph-Q",
        "colab_type": "text"
      },
      "source": [
        "price"
      ]
    },
    {
      "cell_type": "code",
      "metadata": {
        "id": "TrpLNs1CoLC3",
        "colab_type": "code",
        "outputId": "af15bfe0-9e7d-49ed-c390-71cd5a3f1724",
        "colab": {
          "base_uri": "https://localhost:8080/",
          "height": 302
        }
      },
      "source": [
        "# price\n",
        "f = plt.figure(figsize=(20,4))\n",
        "f.add_subplot(1,2,1)\n",
        "sns.distplot(df['price'])\n",
        "f.add_subplot(1,2,2)\n",
        "sns.boxplot(df['price'])"
      ],
      "execution_count": 36,
      "outputs": [
        {
          "output_type": "execute_result",
          "data": {
            "text/plain": [
              "<matplotlib.axes._subplots.AxesSubplot at 0x7f2ac1c3be80>"
            ]
          },
          "metadata": {
            "tags": []
          },
          "execution_count": 36
        },
        {
          "output_type": "display_data",
          "data": {
            "image/png": "[encoded data removed]",
            "text/plain": [
              "<Figure size 1440x288 with 2 Axes>"
            ]
          },
          "metadata": {
            "tags": []
          }
        }
      ]
    },
    {
      "cell_type": "markdown",
      "metadata": {
        "id": "4JbtlOj9qEmh",
        "colab_type": "text"
      },
      "source": [
        "minimum_nights"
      ]
    },
    {
      "cell_type": "code",
      "metadata": {
        "id": "QszfAKmjp4Xs",
        "colab_type": "code",
        "outputId": "64bc717c-f145-4359-9e14-34cbae26837a",
        "colab": {
          "base_uri": "https://localhost:8080/",
          "height": 302
        }
      },
      "source": [
        "# minimum_nights\n",
        "f = plt.figure(figsize=(20,4))\n",
        "f.add_subplot(1,2,1)\n",
        "sns.distplot(df['minimum_nights'])\n",
        "f.add_subplot(1,2,2)\n",
        "sns.boxplot(df['minimum_nights'])"
      ],
      "execution_count": 37,
      "outputs": [
        {
          "output_type": "execute_result",
          "data": {
            "text/plain": [
              "<matplotlib.axes._subplots.AxesSubplot at 0x7f2ac1ceacf8>"
            ]
          },
          "metadata": {
            "tags": []
          },
          "execution_count": 37
        },
        {
          "output_type": "display_data",
          "data": {
            "image/png": "[encoded data removed]",
            "text/plain": [
              "<Figure size 1440x288 with 2 Axes>"
            ]
          },
          "metadata": {
            "tags": []
          }
        }
      ]
    },
    {
      "cell_type": "markdown",
      "metadata": {
        "id": "HY7j2_p3wFMF",
        "colab_type": "text"
      },
      "source": [
        "number_of_reviews"
      ]
    },
    {
      "cell_type": "code",
      "metadata": {
        "id": "FBX7CNfbwAwl",
        "colab_type": "code",
        "outputId": "043801ef-b778-4330-d2a4-33303879691d",
        "colab": {
          "base_uri": "https://localhost:8080/",
          "height": 302
        }
      },
      "source": [
        "# number_of_reviews\n",
        "f = plt.figure(figsize=(20,4))\n",
        "f.add_subplot(1,2,1)\n",
        "sns.distplot(df['number_of_reviews'])\n",
        "f.add_subplot(1,2,2)\n",
        "sns.boxplot(df['number_of_reviews'])"
      ],
      "execution_count": 38,
      "outputs": [
        {
          "output_type": "execute_result",
          "data": {
            "text/plain": [
              "<matplotlib.axes._subplots.AxesSubplot at 0x7f2ac22e1a58>"
            ]
          },
          "metadata": {
            "tags": []
          },
          "execution_count": 38
        },
        {
          "output_type": "display_data",
          "data": {
            "image/png": "[encoded data removed]",
            "text/plain": [
              "<Figure size 1440x288 with 2 Axes>"
            ]
          },
          "metadata": {
            "tags": []
          }
        }
      ]
    },
    {
      "cell_type": "markdown",
      "metadata": {
        "id": "Z1EDc-Q9wMN4",
        "colab_type": "text"
      },
      "source": [
        "reviews_per_month"
      ]
    },
    {
      "cell_type": "code",
      "metadata": {
        "id": "x8csTJG8wIF5",
        "colab_type": "code",
        "outputId": "3d22ba7e-f731-46c4-b7d4-1ade48709ed1",
        "colab": {
          "base_uri": "https://localhost:8080/",
          "height": 302
        }
      },
      "source": [
        "# reviews_per_month\n",
        "f = plt.figure(figsize=(20,4))\n",
        "f.add_subplot(1,2,1)\n",
        "sns.distplot(df['reviews_per_month'])\n",
        "f.add_subplot(1,2,2)\n",
        "sns.boxplot(df['reviews_per_month'])"
      ],
      "execution_count": 39,
      "outputs": [
        {
          "output_type": "execute_result",
          "data": {
            "text/plain": [
              "<matplotlib.axes._subplots.AxesSubplot at 0x7f2ac18dceb8>"
            ]
          },
          "metadata": {
            "tags": []
          },
          "execution_count": 39
        },
        {
          "output_type": "display_data",
          "data": {
            "image/png": "[encoded data removed]",
            "text/plain": [
              "<Figure size 1440x288 with 2 Axes>"
            ]
          },
          "metadata": {
            "tags": []
          }
        }
      ]
    },
    {
      "cell_type": "markdown",
      "metadata": {
        "id": "mVL-S1IxwTBh",
        "colab_type": "text"
      },
      "source": [
        "calculated_host_listings_count"
      ]
    },
    {
      "cell_type": "code",
      "metadata": {
        "id": "CEPPxrLbwOHB",
        "colab_type": "code",
        "outputId": "8719d965-2c8a-46d9-fa99-c07642a94c09",
        "colab": {
          "base_uri": "https://localhost:8080/",
          "height": 302
        }
      },
      "source": [
        "# calculated_host_listings_count\n",
        "f = plt.figure(figsize=(20,4))\n",
        "f.add_subplot(1,2,1)\n",
        "sns.distplot(df['calculated_host_listings_count'])\n",
        "f.add_subplot(1,2,2)\n",
        "sns.boxplot(df['calculated_host_listings_count'])"
      ],
      "execution_count": 40,
      "outputs": [
        {
          "output_type": "execute_result",
          "data": {
            "text/plain": [
              "<matplotlib.axes._subplots.AxesSubplot at 0x7f2ac17fae80>"
            ]
          },
          "metadata": {
            "tags": []
          },
          "execution_count": 40
        },
        {
          "output_type": "display_data",
          "data": {
            "image/png": "[encoded data removed]",
            "text/plain": [
              "<Figure size 1440x288 with 2 Axes>"
            ]
          },
          "metadata": {
            "tags": []
          }
        }
      ]
    },
    {
      "cell_type": "markdown",
      "metadata": {
        "id": "vJszmTB7wbdF",
        "colab_type": "text"
      },
      "source": [
        "availability_365"
      ]
    },
    {
      "cell_type": "code",
      "metadata": {
        "id": "4GIL2MGXwUfO",
        "colab_type": "code",
        "outputId": "41f7e5b4-c648-4b54-f558-e21ae4d5c97b",
        "colab": {
          "base_uri": "https://localhost:8080/",
          "height": 302
        }
      },
      "source": [
        "# availability_365\n",
        "f = plt.figure(figsize=(20,4))\n",
        "f.add_subplot(1,2,1)\n",
        "sns.distplot(df['availability_365'])\n",
        "f.add_subplot(1,2,2)\n",
        "sns.boxplot(df['availability_365'])"
      ],
      "execution_count": 41,
      "outputs": [
        {
          "output_type": "execute_result",
          "data": {
            "text/plain": [
              "<matplotlib.axes._subplots.AxesSubplot at 0x7f2ac16d8eb8>"
            ]
          },
          "metadata": {
            "tags": []
          },
          "execution_count": 41
        },
        {
          "output_type": "display_data",
          "data": {
            "image/png": "[encoded data removed]",
            "text/plain": [
              "<Figure size 1440x288 with 2 Axes>"
            ]
          },
          "metadata": {
            "tags": []
          }
        }
      ]
    },
    {
      "cell_type": "markdown",
      "metadata": {
        "id": "du866i2CEQMR",
        "colab_type": "text"
      },
      "source": [
        "### Correlation"
      ]
    },
    {
      "cell_type": "code",
      "metadata": {
        "id": "SyWv23cbEYlk",
        "colab_type": "code",
        "colab": {}
      },
      "source": [
        "data = df.copy()"
      ],
      "execution_count": 0,
      "outputs": []
    },
    {
      "cell_type": "code",
      "metadata": {
        "id": "i64cPuE9Efbm",
        "colab_type": "code",
        "colab": {}
      },
      "source": [
        "cols_cat = data.loc[:,(data.dtypes=='object')].columns"
      ],
      "execution_count": 0,
      "outputs": []
    },
    {
      "cell_type": "code",
      "metadata": {
        "id": "X9THT46pNg2C",
        "colab_type": "code",
        "colab": {}
      },
      "source": [
        "data[cols_cat] = data[cols_cat].apply(LabelEncoder().fit_transform)"
      ],
      "execution_count": 0,
      "outputs": []
    },
    {
      "cell_type": "code",
      "metadata": {
        "id": "AqulIiooD6yA",
        "colab_type": "code",
        "outputId": "3cf8a88a-1e09-4641-a58c-7c53a015ba38",
        "colab": {
          "base_uri": "https://localhost:8080/",
          "height": 1000
        }
      },
      "source": [
        "#get correlations of each features in dataset\n",
        "corrmat = data.corr()\n",
        "top_corr_features = corrmat.index\n",
        "plt.figure(figsize=(15,15))\n",
        "#plot heat map\n",
        "g=sns.heatmap(data[top_corr_features].corr(),annot=True,cmap=\"RdYlGn\")"
      ],
      "execution_count": 45,
      "outputs": [
        {
          "output_type": "display_data",
          "data": {
            "image/png": "[encoded data removed]",
            "text/plain": [
              "<Figure size 1080x1080 with 2 Axes>"
            ]
          },
          "metadata": {
            "tags": []
          }
        }
      ]
    },
    {
      "cell_type": "markdown",
      "metadata": {
        "id": "d-1LHKVFtA5a",
        "colab_type": "text"
      },
      "source": [
        "### Feature Selection"
      ]
    },
    {
      "cell_type": "markdown",
      "metadata": {
        "id": "Tc_HIzrgseV_",
        "colab_type": "text"
      },
      "source": [
        "Considering that last_review and review_per_month, then we could use any. and since reviews_per_month has high correlation with number_of_reviews, we could use number_of_reviews to represent both of the features. This is done to prevent noise from the missing values in last_review and reviews_per_month."
      ]
    },
    {
      "cell_type": "code",
      "metadata": {
        "id": "DwlLXq11hmCB",
        "colab_type": "code",
        "colab": {}
      },
      "source": [
        "df = df.drop(columns=['last_review','reviews_per_month'])"
      ],
      "execution_count": 0,
      "outputs": []
    },
    {
      "cell_type": "code",
      "metadata": {
        "id": "XwqNBVMIikk4",
        "colab_type": "code",
        "colab": {
          "base_uri": "https://localhost:8080/",
          "height": 402
        },
        "outputId": "10a6326c-10f9-4126-a714-103f203d05b1"
      },
      "source": [
        "df"
      ],
      "execution_count": 47,
      "outputs": [
        {
          "output_type": "execute_result",
          "data": {
            "text/html": [
              "<div>\n",
              "<style scoped>\n",
              "    .dataframe tbody tr th:only-of-type {\n",
              "        vertical-align: middle;\n",
              "    }\n",
              "\n",
              "    .dataframe tbody tr th {\n",
              "        vertical-align: top;\n",
              "    }\n",
              "\n",
              "    .dataframe thead th {\n",
              "        text-align: right;\n",
              "    }\n",
              "</style>\n",
              "<table border=\"1\" class=\"dataframe\">\n",
              "  <thead>\n",
              "    <tr style=\"text-align: right;\">\n",
              "      <th></th>\n",
              "      <th>neighbourhood_group</th>\n",
              "      <th>neighbourhood</th>\n",
              "      <th>latitude</th>\n",
              "      <th>longitude</th>\n",
              "      <th>room_type</th>\n",
              "      <th>price</th>\n",
              "      <th>minimum_nights</th>\n",
              "      <th>number_of_reviews</th>\n",
              "      <th>calculated_host_listings_count</th>\n",
              "      <th>availability_365</th>\n",
              "    </tr>\n",
              "  </thead>\n",
              "  <tbody>\n",
              "    <tr>\n",
              "      <th>0</th>\n",
              "      <td>Mitte</td>\n",
              "      <td>Brunnenstr. Süd</td>\n",
              "      <td>52.534537</td>\n",
              "      <td>13.402557</td>\n",
              "      <td>Entire home/apt</td>\n",
              "      <td>60</td>\n",
              "      <td>4</td>\n",
              "      <td>118</td>\n",
              "      <td>4</td>\n",
              "      <td>141</td>\n",
              "    </tr>\n",
              "    <tr>\n",
              "      <th>1</th>\n",
              "      <td>Pankow</td>\n",
              "      <td>Prenzlauer Berg Nordwest</td>\n",
              "      <td>52.548513</td>\n",
              "      <td>13.404553</td>\n",
              "      <td>Private room</td>\n",
              "      <td>17</td>\n",
              "      <td>2</td>\n",
              "      <td>6</td>\n",
              "      <td>1</td>\n",
              "      <td>0</td>\n",
              "    </tr>\n",
              "    <tr>\n",
              "      <th>2</th>\n",
              "      <td>Pankow</td>\n",
              "      <td>Prenzlauer Berg Südwest</td>\n",
              "      <td>52.534996</td>\n",
              "      <td>13.417579</td>\n",
              "      <td>Entire home/apt</td>\n",
              "      <td>90</td>\n",
              "      <td>62</td>\n",
              "      <td>143</td>\n",
              "      <td>1</td>\n",
              "      <td>220</td>\n",
              "    </tr>\n",
              "    <tr>\n",
              "      <th>3</th>\n",
              "      <td>Tempelhof - Schöneberg</td>\n",
              "      <td>Schöneberg-Nord</td>\n",
              "      <td>52.498855</td>\n",
              "      <td>13.349065</td>\n",
              "      <td>Private room</td>\n",
              "      <td>26</td>\n",
              "      <td>5</td>\n",
              "      <td>25</td>\n",
              "      <td>1</td>\n",
              "      <td>297</td>\n",
              "    </tr>\n",
              "    <tr>\n",
              "      <th>4</th>\n",
              "      <td>Pankow</td>\n",
              "      <td>Helmholtzplatz</td>\n",
              "      <td>52.543157</td>\n",
              "      <td>13.415091</td>\n",
              "      <td>Private room</td>\n",
              "      <td>42</td>\n",
              "      <td>2</td>\n",
              "      <td>197</td>\n",
              "      <td>1</td>\n",
              "      <td>26</td>\n",
              "    </tr>\n",
              "    <tr>\n",
              "      <th>...</th>\n",
              "      <td>...</td>\n",
              "      <td>...</td>\n",
              "      <td>...</td>\n",
              "      <td>...</td>\n",
              "      <td>...</td>\n",
              "      <td>...</td>\n",
              "      <td>...</td>\n",
              "      <td>...</td>\n",
              "      <td>...</td>\n",
              "      <td>...</td>\n",
              "    </tr>\n",
              "    <tr>\n",
              "      <th>22547</th>\n",
              "      <td>Mitte</td>\n",
              "      <td>Brunnenstr. Süd</td>\n",
              "      <td>52.533865</td>\n",
              "      <td>13.400731</td>\n",
              "      <td>Entire home/apt</td>\n",
              "      <td>60</td>\n",
              "      <td>2</td>\n",
              "      <td>0</td>\n",
              "      <td>1</td>\n",
              "      <td>314</td>\n",
              "    </tr>\n",
              "    <tr>\n",
              "      <th>22548</th>\n",
              "      <td>Tempelhof - Schöneberg</td>\n",
              "      <td>Schöneberg-Nord</td>\n",
              "      <td>52.496211</td>\n",
              "      <td>13.341738</td>\n",
              "      <td>Shared room</td>\n",
              "      <td>20</td>\n",
              "      <td>1</td>\n",
              "      <td>0</td>\n",
              "      <td>6</td>\n",
              "      <td>78</td>\n",
              "    </tr>\n",
              "    <tr>\n",
              "      <th>22549</th>\n",
              "      <td>Pankow</td>\n",
              "      <td>Prenzlauer Berg Südwest</td>\n",
              "      <td>52.531800</td>\n",
              "      <td>13.411999</td>\n",
              "      <td>Entire home/apt</td>\n",
              "      <td>85</td>\n",
              "      <td>3</td>\n",
              "      <td>0</td>\n",
              "      <td>2</td>\n",
              "      <td>15</td>\n",
              "    </tr>\n",
              "    <tr>\n",
              "      <th>22550</th>\n",
              "      <td>Mitte</td>\n",
              "      <td>Alexanderplatz</td>\n",
              "      <td>52.520802</td>\n",
              "      <td>13.378688</td>\n",
              "      <td>Private room</td>\n",
              "      <td>99</td>\n",
              "      <td>1</td>\n",
              "      <td>0</td>\n",
              "      <td>3</td>\n",
              "      <td>6</td>\n",
              "    </tr>\n",
              "    <tr>\n",
              "      <th>22551</th>\n",
              "      <td>Neukölln</td>\n",
              "      <td>Schillerpromenade</td>\n",
              "      <td>52.473762</td>\n",
              "      <td>13.424447</td>\n",
              "      <td>Private room</td>\n",
              "      <td>45</td>\n",
              "      <td>5</td>\n",
              "      <td>0</td>\n",
              "      <td>1</td>\n",
              "      <td>21</td>\n",
              "    </tr>\n",
              "  </tbody>\n",
              "</table>\n",
              "<p>22552 rows × 10 columns</p>\n",
              "</div>"
            ],
            "text/plain": [
              "          neighbourhood_group  ... availability_365\n",
              "0                       Mitte  ...              141\n",
              "1                      Pankow  ...                0\n",
              "2                      Pankow  ...              220\n",
              "3      Tempelhof - Schöneberg  ...              297\n",
              "4                      Pankow  ...               26\n",
              "...                       ...  ...              ...\n",
              "22547                   Mitte  ...              314\n",
              "22548  Tempelhof - Schöneberg  ...               78\n",
              "22549                  Pankow  ...               15\n",
              "22550                   Mitte  ...                6\n",
              "22551                Neukölln  ...               21\n",
              "\n",
              "[22552 rows x 10 columns]"
            ]
          },
          "metadata": {
            "tags": []
          },
          "execution_count": 47
        }
      ]
    },
    {
      "cell_type": "markdown",
      "metadata": {
        "id": "FcwLdQup51vv",
        "colab_type": "text"
      },
      "source": [
        "# K Means Algorithm"
      ]
    },
    {
      "cell_type": "code",
      "metadata": {
        "id": "0nFAH9ZSodDu",
        "colab_type": "code",
        "colab": {}
      },
      "source": [
        "# https://www.youtube.com/watch?v=HRoeYblYhkg\n",
        "\n",
        "import matplotlib.pyplot as plt\n",
        "from matplotlib import style\n",
        "style.use('ggplot')\n",
        "import numpy as np\n",
        "\n",
        "colors = 10*['g','r','c','b','k']\n",
        "\n",
        "class K_means:\n",
        "  def __init__(self, n_clusters=2, tol=0.001, max_iter=300):\n",
        "    # The number of clusters to form as well as the number of centroids to generate.\n",
        "    self.n_clusters = n_clusters\n",
        "    # Relative tolerance with regards to inertia to declare convergence.\n",
        "    self.tol = tol\n",
        "    # Maximum number of iterations of the k-means algorithm for a single run.\n",
        "    self.max_iter = max_iter\n",
        "\n",
        "  # Fit functions\n",
        "  def fit(self, data):\n",
        "\n",
        "    self.centroids = {}\n",
        "\n",
        "    # Assigning top n_cluster data into centroids\n",
        "    for i in range(self.n_clusters):\n",
        "      self.centroids[i] = data[i]\n",
        "\n",
        "    # Iterations\n",
        "    for i in range(self.max_iter):\n",
        "      # The classification of n_clusters\n",
        "      self.classifications = {}\n",
        "      # The labeled data\n",
        "      self.labels_ = []\n",
        "\n",
        "      # Assigning classification of each centroids to empty list\n",
        "      for i in range(self.n_clusters):\n",
        "        self.classifications[i] = []\n",
        "\n",
        "      # Computing the distance between centroids, to find the nearest centroid\n",
        "      for featureset in data:\n",
        "        # Euclidian distances\n",
        "        distances = [np.linalg.norm(featureset-self.centroids[centroid]) for centroid in self.centroids]\n",
        "        # Find the minimum distace between clusters\n",
        "        classification = distances.index(min(distances))\n",
        "        self.labels_.append([featureset[0], featureset[1], classification])\n",
        "        self.classifications[classification].append(featureset)\n",
        "\n",
        "      # Assigning original_centroids to prev_centroids\n",
        "      prev_centroids = dict(self.centroids)\n",
        "\n",
        "      # Assigning new centroids\n",
        "      for classification in self.classifications:\n",
        "        self.centroids[classification] = np.average(self.classifications[classification], axis=0)\n",
        "\n",
        "\n",
        "      optimum = True\n",
        "      \n",
        "      # Searching optimum centroid, tolerance < self.tol\n",
        "      for c in self.centroids:\n",
        "        original_centroid = prev_centroids[c]\n",
        "        current_centroid = self.centroids[c]\n",
        "        if np.sum((current_centroid-original_centroid)/original_centroid*100.0)>self.tol:\n",
        "          optimum = False\n",
        "        if optimum==True:\n",
        "          break"
      ],
      "execution_count": 0,
      "outputs": []
    },
    {
      "cell_type": "markdown",
      "metadata": {
        "id": "qb8XDZxopbZJ",
        "colab_type": "text"
      },
      "source": [
        "# Experiment 1\n",
        "\n",
        "From Problem to ML Solution\n",
        "1. Articulate Your Problem Clearly\n",
        "\n",
        "In this experiment the writer would like to know the amount of clusters in price and number_of reviews\n",
        "\n",
        "2. Identify Your Data Sources\n",
        "\n",
        "In this experiment we will use 22552 unlabeled data. The decision here is to find out the clusters between room_type in the dataset.\n",
        "\n",
        "3. Identify Potential Learning Problems\n",
        "\n",
        "> - The features are noisy and has outliers\n",
        "\n",
        "\n",
        "4. Think About Potential Bias and Ethics\n",
        "\n",
        "The writer thinks that there are no Bias and Ethics concerns in this experiment"
      ]
    },
    {
      "cell_type": "code",
      "metadata": {
        "id": "_p0lDviqU1CE",
        "colab_type": "code",
        "colab": {}
      },
      "source": [
        "df_exp1 = df[['number_of_reviews','price']].copy()"
      ],
      "execution_count": 0,
      "outputs": []
    },
    {
      "cell_type": "code",
      "metadata": {
        "id": "7HbNLsOGU5_X",
        "colab_type": "code",
        "colab": {
          "base_uri": "https://localhost:8080/",
          "height": 511
        },
        "outputId": "d6e1fd42-0cf6-44c9-b4d2-0cde8e2d9de7"
      },
      "source": [
        "sns.set_style('whitegrid')\n",
        "sns.lmplot('number_of_reviews','price',data=df_exp1,\n",
        "           palette='coolwarm',size=6,aspect=1,fit_reg=False)"
      ],
      "execution_count": 174,
      "outputs": [
        {
          "output_type": "stream",
          "text": [
            "/usr/local/lib/python3.6/dist-packages/seaborn/regression.py:574: UserWarning: The `size` parameter has been renamed to `height`; please update your code.\n",
            "  warnings.warn(msg, UserWarning)\n"
          ],
          "name": "stderr"
        },
        {
          "output_type": "execute_result",
          "data": {
            "text/plain": [
              "<seaborn.axisgrid.FacetGrid at 0x7f2aae042828>"
            ]
          },
          "metadata": {
            "tags": []
          },
          "execution_count": 174
        },
        {
          "output_type": "display_data",
          "data": {
            "image/png": "[encoded data removed]",
            "text/plain": [
              "<Figure size 432x432 with 1 Axes>"
            ]
          },
          "metadata": {
            "tags": []
          }
        }
      ]
    },
    {
      "cell_type": "code",
      "metadata": {
        "id": "_fUBZo5Psv4x",
        "colab_type": "code",
        "colab": {
          "base_uri": "https://localhost:8080/",
          "height": 134
        },
        "outputId": "dc8eb2c2-c5ad-4482-d9ae-f62d22289386"
      },
      "source": [
        "X = df_exp1.values\n",
        "X"
      ],
      "execution_count": 175,
      "outputs": [
        {
          "output_type": "execute_result",
          "data": {
            "text/plain": [
              "array([[118,  60],\n",
              "       [  6,  17],\n",
              "       [143,  90],\n",
              "       ...,\n",
              "       [  0,  85],\n",
              "       [  0,  99],\n",
              "       [  0,  45]])"
            ]
          },
          "metadata": {
            "tags": []
          },
          "execution_count": 175
        }
      ]
    },
    {
      "cell_type": "markdown",
      "metadata": {
        "id": "xHqWMvurWkTj",
        "colab_type": "text"
      },
      "source": [
        "## Elbow Method\n",
        "Searching for the optimum number of clusters using elbow method"
      ]
    },
    {
      "cell_type": "code",
      "metadata": {
        "id": "FfmcrrPsWKvt",
        "colab_type": "code",
        "colab": {
          "base_uri": "https://localhost:8080/",
          "height": 302
        },
        "outputId": "2c439bb0-a1c2-4469-97ee-5125e3c88af5"
      },
      "source": [
        "from sklearn.cluster import KMeans\n",
        "wcss = []\n",
        "for i in range(1,11):\n",
        "    kmeans = KMeans(n_clusters=i,init='k-means++',max_iter=300,n_init=10,random_state=0)\n",
        "    kmeans.fit(X)\n",
        "    wcss.append(kmeans.inertia_)\n",
        "plt.plot(range(1,11),wcss)\n",
        "plt.title('The Elbow Method')\n",
        "plt.xlabel('Number of clusters')\n",
        "plt.ylabel('WCSS')\n",
        "plt.show()"
      ],
      "execution_count": 176,
      "outputs": [
        {
          "output_type": "display_data",
          "data": {
            "image/png": "[encoded data removed]",
            "text/plain": [
              "<Figure size 432x288 with 1 Axes>"
            ]
          },
          "metadata": {
            "tags": []
          }
        }
      ]
    },
    {
      "cell_type": "markdown",
      "metadata": {
        "id": "92Ko6XO4Wjxg",
        "colab_type": "text"
      },
      "source": [
        "The best number of cluster shown by the elbow method is 2.\n",
        "\n",
        "K=2"
      ]
    },
    {
      "cell_type": "markdown",
      "metadata": {
        "id": "VhPZVbNQADfy",
        "colab_type": "text"
      },
      "source": [
        "## Fit Model"
      ]
    },
    {
      "cell_type": "code",
      "metadata": {
        "id": "MTHgEa9AZcUR",
        "colab_type": "code",
        "colab": {}
      },
      "source": [
        "clf = K_means(n_clusters=2)\n",
        "clf.fit(X)"
      ],
      "execution_count": 0,
      "outputs": []
    },
    {
      "cell_type": "markdown",
      "metadata": {
        "id": "EttPV6ed_hzT",
        "colab_type": "text"
      },
      "source": [
        "## Show Clusters (Slow)\n",
        "\n",
        "PRECAUTION THIS METHOD IS REALLY SLOW"
      ]
    },
    {
      "cell_type": "code",
      "metadata": {
        "id": "KOsEo31yZfl7",
        "colab_type": "code",
        "colab": {
          "base_uri": "https://localhost:8080/",
          "height": 285
        },
        "outputId": "47a23531-4a35-408e-ce87-7087fbfa32df"
      },
      "source": [
        "for centroid in clf.centroids:\n",
        "  plt.scatter(clf.centroids[centroid][0], clf.centroids[centroid][1],\n",
        "              marker='o', color='k', s=150, linewidth=5)\n",
        "  \n",
        "for classification in clf.classifications:\n",
        "  color = colors[classification]\n",
        "  for featureset in clf.classifications[classification]:\n",
        "    plt.scatter(featureset[0], featureset[1], marker='x', color=color, s=150, linewidths=5)\n",
        "\n",
        "plt.xlabel('number_of_reviews')\n",
        "plt.ylabel('price')\n",
        "plt.show()"
      ],
      "execution_count": 76,
      "outputs": [
        {
          "output_type": "display_data",
          "data": {
            "image/png": "[encoded data removed]",
            "text/plain": [
              "<Figure size 432x288 with 1 Axes>"
            ]
          },
          "metadata": {
            "tags": []
          }
        }
      ]
    },
    {
      "cell_type": "markdown",
      "metadata": {
        "id": "FjIXrLOb_seF",
        "colab_type": "text"
      },
      "source": [
        "## Show Clusters (RECOMMENDED)"
      ]
    },
    {
      "cell_type": "code",
      "metadata": {
        "id": "MYucKwJr3YlP",
        "colab_type": "code",
        "colab": {
          "base_uri": "https://localhost:8080/",
          "height": 402
        },
        "outputId": "bac9b0b5-9346-49f4-ff05-c3ec03f17a1d"
      },
      "source": [
        "df_result = pd.DataFrame(clf.labels_)\n",
        "df_result"
      ],
      "execution_count": 178,
      "outputs": [
        {
          "output_type": "execute_result",
          "data": {
            "text/html": [
              "<div>\n",
              "<style scoped>\n",
              "    .dataframe tbody tr th:only-of-type {\n",
              "        vertical-align: middle;\n",
              "    }\n",
              "\n",
              "    .dataframe tbody tr th {\n",
              "        vertical-align: top;\n",
              "    }\n",
              "\n",
              "    .dataframe thead th {\n",
              "        text-align: right;\n",
              "    }\n",
              "</style>\n",
              "<table border=\"1\" class=\"dataframe\">\n",
              "  <thead>\n",
              "    <tr style=\"text-align: right;\">\n",
              "      <th></th>\n",
              "      <th>0</th>\n",
              "      <th>1</th>\n",
              "      <th>2</th>\n",
              "    </tr>\n",
              "  </thead>\n",
              "  <tbody>\n",
              "    <tr>\n",
              "      <th>0</th>\n",
              "      <td>118</td>\n",
              "      <td>60</td>\n",
              "      <td>1</td>\n",
              "    </tr>\n",
              "    <tr>\n",
              "      <th>1</th>\n",
              "      <td>6</td>\n",
              "      <td>17</td>\n",
              "      <td>1</td>\n",
              "    </tr>\n",
              "    <tr>\n",
              "      <th>2</th>\n",
              "      <td>143</td>\n",
              "      <td>90</td>\n",
              "      <td>1</td>\n",
              "    </tr>\n",
              "    <tr>\n",
              "      <th>3</th>\n",
              "      <td>25</td>\n",
              "      <td>26</td>\n",
              "      <td>1</td>\n",
              "    </tr>\n",
              "    <tr>\n",
              "      <th>4</th>\n",
              "      <td>197</td>\n",
              "      <td>42</td>\n",
              "      <td>1</td>\n",
              "    </tr>\n",
              "    <tr>\n",
              "      <th>...</th>\n",
              "      <td>...</td>\n",
              "      <td>...</td>\n",
              "      <td>...</td>\n",
              "    </tr>\n",
              "    <tr>\n",
              "      <th>22547</th>\n",
              "      <td>0</td>\n",
              "      <td>60</td>\n",
              "      <td>1</td>\n",
              "    </tr>\n",
              "    <tr>\n",
              "      <th>22548</th>\n",
              "      <td>0</td>\n",
              "      <td>20</td>\n",
              "      <td>1</td>\n",
              "    </tr>\n",
              "    <tr>\n",
              "      <th>22549</th>\n",
              "      <td>0</td>\n",
              "      <td>85</td>\n",
              "      <td>1</td>\n",
              "    </tr>\n",
              "    <tr>\n",
              "      <th>22550</th>\n",
              "      <td>0</td>\n",
              "      <td>99</td>\n",
              "      <td>1</td>\n",
              "    </tr>\n",
              "    <tr>\n",
              "      <th>22551</th>\n",
              "      <td>0</td>\n",
              "      <td>45</td>\n",
              "      <td>1</td>\n",
              "    </tr>\n",
              "  </tbody>\n",
              "</table>\n",
              "<p>22552 rows × 3 columns</p>\n",
              "</div>"
            ],
            "text/plain": [
              "         0   1  2\n",
              "0      118  60  1\n",
              "1        6  17  1\n",
              "2      143  90  1\n",
              "3       25  26  1\n",
              "4      197  42  1\n",
              "...    ...  .. ..\n",
              "22547    0  60  1\n",
              "22548    0  20  1\n",
              "22549    0  85  1\n",
              "22550    0  99  1\n",
              "22551    0  45  1\n",
              "\n",
              "[22552 rows x 3 columns]"
            ]
          },
          "metadata": {
            "tags": []
          },
          "execution_count": 178
        }
      ]
    },
    {
      "cell_type": "code",
      "metadata": {
        "id": "BtSvwiND3SS6",
        "colab_type": "code",
        "colab": {
          "base_uri": "https://localhost:8080/",
          "height": 402
        },
        "outputId": "78e6f2c5-a366-4cb0-cf10-3dfcf7a07e4d"
      },
      "source": [
        "df_exp1['number_of_reviews'] = df_result.loc[:,0]\n",
        "df_exp1['price'] = df_result.loc[:,1]\n",
        "df_exp1['label'] = df_result.loc[:,2]\n",
        "df_exp1"
      ],
      "execution_count": 179,
      "outputs": [
        {
          "output_type": "execute_result",
          "data": {
            "text/html": [
              "<div>\n",
              "<style scoped>\n",
              "    .dataframe tbody tr th:only-of-type {\n",
              "        vertical-align: middle;\n",
              "    }\n",
              "\n",
              "    .dataframe tbody tr th {\n",
              "        vertical-align: top;\n",
              "    }\n",
              "\n",
              "    .dataframe thead th {\n",
              "        text-align: right;\n",
              "    }\n",
              "</style>\n",
              "<table border=\"1\" class=\"dataframe\">\n",
              "  <thead>\n",
              "    <tr style=\"text-align: right;\">\n",
              "      <th></th>\n",
              "      <th>number_of_reviews</th>\n",
              "      <th>price</th>\n",
              "      <th>label</th>\n",
              "    </tr>\n",
              "  </thead>\n",
              "  <tbody>\n",
              "    <tr>\n",
              "      <th>0</th>\n",
              "      <td>118</td>\n",
              "      <td>60</td>\n",
              "      <td>1</td>\n",
              "    </tr>\n",
              "    <tr>\n",
              "      <th>1</th>\n",
              "      <td>6</td>\n",
              "      <td>17</td>\n",
              "      <td>1</td>\n",
              "    </tr>\n",
              "    <tr>\n",
              "      <th>2</th>\n",
              "      <td>143</td>\n",
              "      <td>90</td>\n",
              "      <td>1</td>\n",
              "    </tr>\n",
              "    <tr>\n",
              "      <th>3</th>\n",
              "      <td>25</td>\n",
              "      <td>26</td>\n",
              "      <td>1</td>\n",
              "    </tr>\n",
              "    <tr>\n",
              "      <th>4</th>\n",
              "      <td>197</td>\n",
              "      <td>42</td>\n",
              "      <td>1</td>\n",
              "    </tr>\n",
              "    <tr>\n",
              "      <th>...</th>\n",
              "      <td>...</td>\n",
              "      <td>...</td>\n",
              "      <td>...</td>\n",
              "    </tr>\n",
              "    <tr>\n",
              "      <th>22547</th>\n",
              "      <td>0</td>\n",
              "      <td>60</td>\n",
              "      <td>1</td>\n",
              "    </tr>\n",
              "    <tr>\n",
              "      <th>22548</th>\n",
              "      <td>0</td>\n",
              "      <td>20</td>\n",
              "      <td>1</td>\n",
              "    </tr>\n",
              "    <tr>\n",
              "      <th>22549</th>\n",
              "      <td>0</td>\n",
              "      <td>85</td>\n",
              "      <td>1</td>\n",
              "    </tr>\n",
              "    <tr>\n",
              "      <th>22550</th>\n",
              "      <td>0</td>\n",
              "      <td>99</td>\n",
              "      <td>1</td>\n",
              "    </tr>\n",
              "    <tr>\n",
              "      <th>22551</th>\n",
              "      <td>0</td>\n",
              "      <td>45</td>\n",
              "      <td>1</td>\n",
              "    </tr>\n",
              "  </tbody>\n",
              "</table>\n",
              "<p>22552 rows × 3 columns</p>\n",
              "</div>"
            ],
            "text/plain": [
              "       number_of_reviews  price  label\n",
              "0                    118     60      1\n",
              "1                      6     17      1\n",
              "2                    143     90      1\n",
              "3                     25     26      1\n",
              "4                    197     42      1\n",
              "...                  ...    ...    ...\n",
              "22547                  0     60      1\n",
              "22548                  0     20      1\n",
              "22549                  0     85      1\n",
              "22550                  0     99      1\n",
              "22551                  0     45      1\n",
              "\n",
              "[22552 rows x 3 columns]"
            ]
          },
          "metadata": {
            "tags": []
          },
          "execution_count": 179
        }
      ]
    },
    {
      "cell_type": "code",
      "metadata": {
        "id": "cI5mGGOqb0-8",
        "colab_type": "code",
        "colab": {
          "base_uri": "https://localhost:8080/",
          "height": 491
        },
        "outputId": "72fe2fa8-90a8-411f-917d-14edbc8555c0"
      },
      "source": [
        "sns.set_style('whitegrid')\n",
        "sns.lmplot('number_of_reviews','price',data=df_exp1, hue='label',\n",
        "           palette='coolwarm',size=6,aspect=1,fit_reg=False)"
      ],
      "execution_count": 180,
      "outputs": [
        {
          "output_type": "stream",
          "text": [
            "/usr/local/lib/python3.6/dist-packages/seaborn/regression.py:574: UserWarning: The `size` parameter has been renamed to `height`; please update your code.\n",
            "  warnings.warn(msg, UserWarning)\n"
          ],
          "name": "stderr"
        },
        {
          "output_type": "execute_result",
          "data": {
            "text/plain": [
              "<seaborn.axisgrid.FacetGrid at 0x7f2aaafcc5c0>"
            ]
          },
          "metadata": {
            "tags": []
          },
          "execution_count": 180
        },
        {
          "output_type": "display_data",
          "data": {
            "image/png": "[encoded data removed]",
            "text/plain": [
              "<Figure size 478.6x432 with 1 Axes>"
            ]
          },
          "metadata": {
            "tags": []
          }
        }
      ]
    },
    {
      "cell_type": "markdown",
      "metadata": {
        "id": "60ZOhywT6Z5W",
        "colab_type": "text"
      },
      "source": [
        "## In Conclusion\n",
        "\n",
        "There are 2 clusters:\n",
        "\n",
        "cluster 0:\n",
        "- low reviews\n",
        "- expensive\n",
        "\n",
        "cluster 1:\n",
        "- high reviews\n",
        "- moderate price"
      ]
    },
    {
      "cell_type": "code",
      "metadata": {
        "id": "UXnlkCmwBId3",
        "colab_type": "code",
        "colab": {}
      },
      "source": [
        "# to_csv\n",
        "\n",
        "# df_exp1.to_csv('df_exp1.csv')"
      ],
      "execution_count": 0,
      "outputs": []
    },
    {
      "cell_type": "markdown",
      "metadata": {
        "id": "eadWfBmhn6fb",
        "colab_type": "text"
      },
      "source": [
        "# Experiment 2\n",
        "\n",
        "From Problem to ML Solution\n",
        "1. Articulate Your Problem Clearly\n",
        "\n",
        "In this experiment the writer would like to know the amount of clusters in price and minimum_nights\n",
        "\n",
        "2. Identify Your Data Sources\n",
        "\n",
        "In this experiment we will use 22552 unlabeled data. The decision here is to find out the clusters between room_type in the dataset.\n",
        "\n",
        "3. Identify Potential Learning Problems\n",
        "\n",
        "> - The features are noisy and has outliers\n",
        "\n",
        "\n",
        "4. Think About Potential Bias and Ethics\n",
        "\n",
        "The writer thinks that there are no Bias and Ethics concerns in this experiment"
      ]
    },
    {
      "cell_type": "code",
      "metadata": {
        "id": "FEpxG0t3XEFV",
        "colab_type": "code",
        "colab": {}
      },
      "source": [
        "df_exp2 = df[['price','minimum_nights']].copy()"
      ],
      "execution_count": 0,
      "outputs": []
    },
    {
      "cell_type": "code",
      "metadata": {
        "id": "_PgllYb0XOPY",
        "colab_type": "code",
        "colab": {
          "base_uri": "https://localhost:8080/",
          "height": 511
        },
        "outputId": "75d85245-ab27-4a63-c238-1786f6435ca6"
      },
      "source": [
        "sns.set_style('whitegrid')\n",
        "sns.lmplot('price','minimum_nights',data=df_exp2,\n",
        "           palette='coolwarm',size=6,aspect=1,fit_reg=False)"
      ],
      "execution_count": 163,
      "outputs": [
        {
          "output_type": "stream",
          "text": [
            "/usr/local/lib/python3.6/dist-packages/seaborn/regression.py:574: UserWarning: The `size` parameter has been renamed to `height`; please update your code.\n",
            "  warnings.warn(msg, UserWarning)\n"
          ],
          "name": "stderr"
        },
        {
          "output_type": "execute_result",
          "data": {
            "text/plain": [
              "<seaborn.axisgrid.FacetGrid at 0x7f2ac23db470>"
            ]
          },
          "metadata": {
            "tags": []
          },
          "execution_count": 163
        },
        {
          "output_type": "display_data",
          "data": {
            "image/png": "[encoded data removed]",
            "text/plain": [
              "<Figure size 432x432 with 1 Axes>"
            ]
          },
          "metadata": {
            "tags": []
          }
        }
      ]
    },
    {
      "cell_type": "code",
      "metadata": {
        "id": "dHq7Oa3TXRjz",
        "colab_type": "code",
        "colab": {
          "base_uri": "https://localhost:8080/",
          "height": 134
        },
        "outputId": "f009f7fd-b224-4537-ed5e-f7d6d20647e6"
      },
      "source": [
        "X = df_exp2.values\n",
        "X"
      ],
      "execution_count": 164,
      "outputs": [
        {
          "output_type": "execute_result",
          "data": {
            "text/plain": [
              "array([[60,  4],\n",
              "       [17,  2],\n",
              "       [90, 62],\n",
              "       ...,\n",
              "       [85,  3],\n",
              "       [99,  1],\n",
              "       [45,  5]])"
            ]
          },
          "metadata": {
            "tags": []
          },
          "execution_count": 164
        }
      ]
    },
    {
      "cell_type": "markdown",
      "metadata": {
        "id": "YS2nk2HdAad4",
        "colab_type": "text"
      },
      "source": [
        "## Elbow Method\n",
        "Searching for the optimum number of clusters using elbow method"
      ]
    },
    {
      "cell_type": "code",
      "metadata": {
        "id": "9i06_B0-XbYi",
        "colab_type": "code",
        "colab": {
          "base_uri": "https://localhost:8080/",
          "height": 302
        },
        "outputId": "e1893496-5394-44d3-871a-d7e1cb283eaf"
      },
      "source": [
        "from sklearn.cluster import KMeans\n",
        "wcss = []\n",
        "for i in range(1,11):\n",
        "    kmeans = KMeans(n_clusters=i,init='k-means++',max_iter=300,n_init=10,random_state=0)\n",
        "    kmeans.fit(X)\n",
        "    wcss.append(kmeans.inertia_)\n",
        "plt.plot(range(1,11),wcss)\n",
        "plt.title('The Elbow Method')\n",
        "plt.xlabel('Number of clusters')\n",
        "plt.ylabel('WCSS')\n",
        "plt.show()"
      ],
      "execution_count": 165,
      "outputs": [
        {
          "output_type": "display_data",
          "data": {
            "image/png": "[encoded data removed]",
            "text/plain": [
              "<Figure size 432x288 with 1 Axes>"
            ]
          },
          "metadata": {
            "tags": []
          }
        }
      ]
    },
    {
      "cell_type": "markdown",
      "metadata": {
        "id": "SedsLxx5Abou",
        "colab_type": "text"
      },
      "source": [
        "## Fit the Model"
      ]
    },
    {
      "cell_type": "code",
      "metadata": {
        "id": "1Jh30-by4jef",
        "colab_type": "code",
        "colab": {}
      },
      "source": [
        "clf = K_means(n_clusters=2)\n",
        "clf.fit(X)"
      ],
      "execution_count": 0,
      "outputs": []
    },
    {
      "cell_type": "markdown",
      "metadata": {
        "id": "NvRQPJSPAe0V",
        "colab_type": "text"
      },
      "source": [
        "## Show Clusters (Slow)\n",
        "\n",
        "PRECAUTION THIS METHOD IS REALLY SLOW"
      ]
    },
    {
      "cell_type": "code",
      "metadata": {
        "id": "WgmgdjKg4maI",
        "colab_type": "code",
        "colab": {}
      },
      "source": [
        "for centroid in clf.centroids:\n",
        "  plt.scatter(clf.centroids[centroid][0], clf.centroids[centroid][1],\n",
        "              marker='o', color='k', s=150, linewidth=5)\n",
        "  \n",
        "for classification in clf.classifications:\n",
        "  color = colors[classification]\n",
        "  for featureset in clf.classifications[classification]:\n",
        "    plt.scatter(featureset[0], featureset[1], marker='x', color=color, s=150, linewidths=5)\n",
        "\n",
        "plt.xlabel('price')\n",
        "plt.ylabel('minimum_nights')\n",
        "plt.show()"
      ],
      "execution_count": 0,
      "outputs": []
    },
    {
      "cell_type": "markdown",
      "metadata": {
        "id": "GR2bVK-iAmbb",
        "colab_type": "text"
      },
      "source": [
        "## Show Clusters (RECOMMENDED)"
      ]
    },
    {
      "cell_type": "code",
      "metadata": {
        "id": "d9wDsRmt4pid",
        "colab_type": "code",
        "colab": {
          "base_uri": "https://localhost:8080/",
          "height": 402
        },
        "outputId": "8e09a33a-5700-4604-efd4-9a9a9ebe3f27"
      },
      "source": [
        "df_result = pd.DataFrame(clf.labels_)\n",
        "df_result"
      ],
      "execution_count": 167,
      "outputs": [
        {
          "output_type": "execute_result",
          "data": {
            "text/html": [
              "<div>\n",
              "<style scoped>\n",
              "    .dataframe tbody tr th:only-of-type {\n",
              "        vertical-align: middle;\n",
              "    }\n",
              "\n",
              "    .dataframe tbody tr th {\n",
              "        vertical-align: top;\n",
              "    }\n",
              "\n",
              "    .dataframe thead th {\n",
              "        text-align: right;\n",
              "    }\n",
              "</style>\n",
              "<table border=\"1\" class=\"dataframe\">\n",
              "  <thead>\n",
              "    <tr style=\"text-align: right;\">\n",
              "      <th></th>\n",
              "      <th>0</th>\n",
              "      <th>1</th>\n",
              "      <th>2</th>\n",
              "    </tr>\n",
              "  </thead>\n",
              "  <tbody>\n",
              "    <tr>\n",
              "      <th>0</th>\n",
              "      <td>60</td>\n",
              "      <td>4</td>\n",
              "      <td>1</td>\n",
              "    </tr>\n",
              "    <tr>\n",
              "      <th>1</th>\n",
              "      <td>17</td>\n",
              "      <td>2</td>\n",
              "      <td>1</td>\n",
              "    </tr>\n",
              "    <tr>\n",
              "      <th>2</th>\n",
              "      <td>90</td>\n",
              "      <td>62</td>\n",
              "      <td>1</td>\n",
              "    </tr>\n",
              "    <tr>\n",
              "      <th>3</th>\n",
              "      <td>26</td>\n",
              "      <td>5</td>\n",
              "      <td>1</td>\n",
              "    </tr>\n",
              "    <tr>\n",
              "      <th>4</th>\n",
              "      <td>42</td>\n",
              "      <td>2</td>\n",
              "      <td>1</td>\n",
              "    </tr>\n",
              "    <tr>\n",
              "      <th>...</th>\n",
              "      <td>...</td>\n",
              "      <td>...</td>\n",
              "      <td>...</td>\n",
              "    </tr>\n",
              "    <tr>\n",
              "      <th>22547</th>\n",
              "      <td>60</td>\n",
              "      <td>2</td>\n",
              "      <td>1</td>\n",
              "    </tr>\n",
              "    <tr>\n",
              "      <th>22548</th>\n",
              "      <td>20</td>\n",
              "      <td>1</td>\n",
              "      <td>1</td>\n",
              "    </tr>\n",
              "    <tr>\n",
              "      <th>22549</th>\n",
              "      <td>85</td>\n",
              "      <td>3</td>\n",
              "      <td>1</td>\n",
              "    </tr>\n",
              "    <tr>\n",
              "      <th>22550</th>\n",
              "      <td>99</td>\n",
              "      <td>1</td>\n",
              "      <td>1</td>\n",
              "    </tr>\n",
              "    <tr>\n",
              "      <th>22551</th>\n",
              "      <td>45</td>\n",
              "      <td>5</td>\n",
              "      <td>1</td>\n",
              "    </tr>\n",
              "  </tbody>\n",
              "</table>\n",
              "<p>22552 rows × 3 columns</p>\n",
              "</div>"
            ],
            "text/plain": [
              "        0   1  2\n",
              "0      60   4  1\n",
              "1      17   2  1\n",
              "2      90  62  1\n",
              "3      26   5  1\n",
              "4      42   2  1\n",
              "...    ..  .. ..\n",
              "22547  60   2  1\n",
              "22548  20   1  1\n",
              "22549  85   3  1\n",
              "22550  99   1  1\n",
              "22551  45   5  1\n",
              "\n",
              "[22552 rows x 3 columns]"
            ]
          },
          "metadata": {
            "tags": []
          },
          "execution_count": 167
        }
      ]
    },
    {
      "cell_type": "code",
      "metadata": {
        "id": "r1Be77Vf4xct",
        "colab_type": "code",
        "colab": {
          "base_uri": "https://localhost:8080/",
          "height": 402
        },
        "outputId": "b6b99129-a45f-49e3-a602-5d8d37182c8b"
      },
      "source": [
        "df_exp2['price'] = df_result.loc[:,0]\n",
        "df_exp2['minimum_nights'] = df_result.loc[:,1]\n",
        "df_exp2['label'] = df_result.loc[:,2]\n",
        "df_exp2"
      ],
      "execution_count": 169,
      "outputs": [
        {
          "output_type": "execute_result",
          "data": {
            "text/html": [
              "<div>\n",
              "<style scoped>\n",
              "    .dataframe tbody tr th:only-of-type {\n",
              "        vertical-align: middle;\n",
              "    }\n",
              "\n",
              "    .dataframe tbody tr th {\n",
              "        vertical-align: top;\n",
              "    }\n",
              "\n",
              "    .dataframe thead th {\n",
              "        text-align: right;\n",
              "    }\n",
              "</style>\n",
              "<table border=\"1\" class=\"dataframe\">\n",
              "  <thead>\n",
              "    <tr style=\"text-align: right;\">\n",
              "      <th></th>\n",
              "      <th>price</th>\n",
              "      <th>minimum_nights</th>\n",
              "      <th>label</th>\n",
              "    </tr>\n",
              "  </thead>\n",
              "  <tbody>\n",
              "    <tr>\n",
              "      <th>0</th>\n",
              "      <td>60</td>\n",
              "      <td>4</td>\n",
              "      <td>1</td>\n",
              "    </tr>\n",
              "    <tr>\n",
              "      <th>1</th>\n",
              "      <td>17</td>\n",
              "      <td>2</td>\n",
              "      <td>1</td>\n",
              "    </tr>\n",
              "    <tr>\n",
              "      <th>2</th>\n",
              "      <td>90</td>\n",
              "      <td>62</td>\n",
              "      <td>1</td>\n",
              "    </tr>\n",
              "    <tr>\n",
              "      <th>3</th>\n",
              "      <td>26</td>\n",
              "      <td>5</td>\n",
              "      <td>1</td>\n",
              "    </tr>\n",
              "    <tr>\n",
              "      <th>4</th>\n",
              "      <td>42</td>\n",
              "      <td>2</td>\n",
              "      <td>1</td>\n",
              "    </tr>\n",
              "    <tr>\n",
              "      <th>...</th>\n",
              "      <td>...</td>\n",
              "      <td>...</td>\n",
              "      <td>...</td>\n",
              "    </tr>\n",
              "    <tr>\n",
              "      <th>22547</th>\n",
              "      <td>60</td>\n",
              "      <td>2</td>\n",
              "      <td>1</td>\n",
              "    </tr>\n",
              "    <tr>\n",
              "      <th>22548</th>\n",
              "      <td>20</td>\n",
              "      <td>1</td>\n",
              "      <td>1</td>\n",
              "    </tr>\n",
              "    <tr>\n",
              "      <th>22549</th>\n",
              "      <td>85</td>\n",
              "      <td>3</td>\n",
              "      <td>1</td>\n",
              "    </tr>\n",
              "    <tr>\n",
              "      <th>22550</th>\n",
              "      <td>99</td>\n",
              "      <td>1</td>\n",
              "      <td>1</td>\n",
              "    </tr>\n",
              "    <tr>\n",
              "      <th>22551</th>\n",
              "      <td>45</td>\n",
              "      <td>5</td>\n",
              "      <td>1</td>\n",
              "    </tr>\n",
              "  </tbody>\n",
              "</table>\n",
              "<p>22552 rows × 3 columns</p>\n",
              "</div>"
            ],
            "text/plain": [
              "       price  minimum_nights  label\n",
              "0         60               4      1\n",
              "1         17               2      1\n",
              "2         90              62      1\n",
              "3         26               5      1\n",
              "4         42               2      1\n",
              "...      ...             ...    ...\n",
              "22547     60               2      1\n",
              "22548     20               1      1\n",
              "22549     85               3      1\n",
              "22550     99               1      1\n",
              "22551     45               5      1\n",
              "\n",
              "[22552 rows x 3 columns]"
            ]
          },
          "metadata": {
            "tags": []
          },
          "execution_count": 169
        }
      ]
    },
    {
      "cell_type": "code",
      "metadata": {
        "id": "jvtgoTgK40_v",
        "colab_type": "code",
        "colab": {
          "base_uri": "https://localhost:8080/",
          "height": 491
        },
        "outputId": "48147930-b1ae-47ae-9177-f4f04192bee9"
      },
      "source": [
        "sns.set_style('whitegrid')\n",
        "sns.lmplot('price','minimum_nights',data=df_exp2, hue='label',\n",
        "           palette='coolwarm',size=6,aspect=1,fit_reg=False)"
      ],
      "execution_count": 171,
      "outputs": [
        {
          "output_type": "stream",
          "text": [
            "/usr/local/lib/python3.6/dist-packages/seaborn/regression.py:574: UserWarning: The `size` parameter has been renamed to `height`; please update your code.\n",
            "  warnings.warn(msg, UserWarning)\n"
          ],
          "name": "stderr"
        },
        {
          "output_type": "execute_result",
          "data": {
            "text/plain": [
              "<seaborn.axisgrid.FacetGrid at 0x7f2aaecdd6a0>"
            ]
          },
          "metadata": {
            "tags": []
          },
          "execution_count": 171
        },
        {
          "output_type": "display_data",
          "data": {
            "image/png": "[encoded data removed]",
            "text/plain": [
              "<Figure size 478.6x432 with 1 Axes>"
            ]
          },
          "metadata": {
            "tags": []
          }
        }
      ]
    },
    {
      "cell_type": "markdown",
      "metadata": {
        "id": "II7rHzTiArWT",
        "colab_type": "text"
      },
      "source": [
        "## In Conclusion\n",
        "\n",
        "There are 2 clusters:\n",
        "\n",
        "cluster 0:\n",
        "- lower minimum_nights\n",
        "- expensive\n",
        "\n",
        "cluster 1:\n",
        "- moderate to high minimum_nights\n",
        "- moderate price"
      ]
    },
    {
      "cell_type": "code",
      "metadata": {
        "id": "mORxrLLxBG-P",
        "colab_type": "code",
        "colab": {}
      },
      "source": [
        "# to_csv\n",
        "\n",
        "# df_exp2.to_csv('df_exp2.csv')"
      ],
      "execution_count": 0,
      "outputs": []
    }
  ]
}